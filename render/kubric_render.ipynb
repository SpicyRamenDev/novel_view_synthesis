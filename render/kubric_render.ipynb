{
 "cells": [
  {
   "cell_type": "code",
   "execution_count": 1,
   "id": "f4f97e5a",
   "metadata": {},
   "outputs": [],
   "source": [
    "import os\n",
    "import logging\n",
    "import numpy as np\n",
    "import bpy\n",
    "from scipy.spatial.transform import Rotation as R\n",
    "import random\n",
    "from kubric import randomness\n",
    "\n",
    "import tensorflow as tf\n",
    "from PIL import Image\n",
    "from pathlib import Path\n",
    "from tqdm import tqdm\n",
    "import json\n",
    "import urllib3\n",
    "import shutil\n",
    "import tarfile\n",
    "import sys\n",
    "import os\n",
    "os.environ[\"KUBRIC_USE_GPU\"] = \"1\"\n",
    "\n",
    "http = urllib3.PoolManager()\n",
    "\n",
    "import kubric as kb\n",
    "from kubric.renderer import Blender"
   ]
  },
  {
   "cell_type": "code",
   "execution_count": 2,
   "id": "8a03a576",
   "metadata": {},
   "outputs": [],
   "source": [
    "devnull = os.open('/dev/null', os.O_WRONLY)\n",
    "os.dup2(devnull, 1)\n",
    "os.close(devnull)"
   ]
  },
  {
   "cell_type": "code",
   "execution_count": 3,
   "id": "c98e282e",
   "metadata": {},
   "outputs": [],
   "source": [
    "shapenet_gs = 'gs://kubric-unlisted/assets/ShapeNetCore.v2/'\n",
    "manifest_gs = 'gs://kubric-unlisted/assets/ShapeNetCore.v2.json'\n",
    "manifest_path = Path('ShapeNetCore.v2.json')\n",
    "shapenet_path = Path('shapenet')\n",
    "renders_path = Path('new_renders')"
   ]
  },
  {
   "cell_type": "code",
   "execution_count": 4,
   "id": "ceea94f8",
   "metadata": {},
   "outputs": [],
   "source": [
    "def fetch_gs(src_gs, dest_path):\n",
    "    if not dest_path.exists():\n",
    "        dest_path.parent.mkdir(parents=True, exist_ok=True)\n",
    "        tf.io.gfile.copy(src_gs, dest_path)\n",
    "\n",
    "def fetch_url(src_url, dest_path):\n",
    "    if not dest_path.exists():\n",
    "        dest_path.parent.mkdir(parents=True, exist_ok=True)\n",
    "        with http.request('GET', src_url, preload_content=False) as r, open(dest_path, 'wb') as dest_file:\n",
    "            shutil.copyfileobj(r, dest_file)"
   ]
  },
  {
   "cell_type": "code",
   "execution_count": 5,
   "id": "38b5f249",
   "metadata": {
    "tags": []
   },
   "outputs": [],
   "source": [
    "class ShapeNet():\n",
    "    def __init__(self):\n",
    "        fetch_gs(manifest_gs, manifest_path)\n",
    "        with open(manifest_path, 'rb') as manifest_file:\n",
    "            manifest = json.loads(manifest_file.read())\n",
    "        self.assets = manifest['assets']\n",
    "    \n",
    "    def fetch_asset_tar(self, asset_id):\n",
    "        path = shapenet_path / (asset_id + \".tar.gz\")\n",
    "        fetch_gs(shapenet_gs + (asset_id + \".tar.gz\"), path)\n",
    "        return path\n",
    "    \n",
    "    def fetch_asset(self, asset_id):\n",
    "        path = shapenet_path / asset_id\n",
    "        if not path.is_dir():\n",
    "            tar_path = self.fetch_asset_tar(asset_id)\n",
    "            with tarfile.open(tar_path) as tar:\n",
    "                tar.extractall(path)\n",
    "        return path\n",
    "    \n",
    "    def get_category(self, category):\n",
    "        return [asset_id for asset_id, asset in self.assets.items() if asset['metadata']['category'] == category]\n",
    "    \n",
    "    def fetch_category_tar(self, category):\n",
    "        asset_ids = self.get_category(category)\n",
    "        for i in tqdm(range(len(asset_ids)), desc='Fetching tar...'):\n",
    "            asset_id = asset_ids[i]\n",
    "            self.fetch_asset_tar(asset_id)\n",
    "    \n",
    "    def fetch_category(self, category):\n",
    "        asset_ids = self.get_category(category)\n",
    "        for i in tqdm(range(len(asset_ids)), desc='Fetching...'):\n",
    "            asset_id = asset_ids[i]\n",
    "            self.fetch_asset(asset_id)\n",
    "    \n",
    "    def create(self, asset_id):\n",
    "        asset_entry = self.assets[asset_id]\n",
    "        asset_type = kb.AssetSource._resolve_asset_type(asset_entry[\"asset_type\"])\n",
    "        asset_dir = self.fetch_asset(asset_id)\n",
    "\n",
    "        asset_kwargs = asset_entry.get(\"kwargs\", {})\n",
    "        asset_kwargs = kb.AssetSource._adjust_paths(asset_kwargs, asset_dir)\n",
    "        if asset_type == kb.core.FileBasedObject:\n",
    "            asset_kwargs[\"asset_id\"] = asset_id\n",
    "        asset = asset_type(**asset_kwargs)\n",
    "        asset.metadata.update(asset_entry.get(\"metadata\", {}))\n",
    "\n",
    "        return asset"
   ]
  },
  {
   "cell_type": "code",
   "execution_count": 6,
   "id": "6431ef7d",
   "metadata": {},
   "outputs": [],
   "source": [
    "def setup(camera_angles, resolution):\n",
    "    scene = kb.Scene(resolution=resolution)\n",
    "    renderer = Blender(scene=scene, use_denoising=True,\n",
    "                   samples_per_pixel=64, background_transparency=True)\n",
    "\n",
    "    wall_material = kb.FlatMaterial(color=kb.get_color('gray'),\n",
    "                                    indirect_visibility=True, holdout=True)\n",
    "    walls = [\n",
    "        kb.Cube(name='floor', scale=(100, 100, 1), position=(0, 0, -10), material=wall_material),\n",
    "        #kb.Cube(name='nwall', scale=(0.1, 2, 1), position=(-2, 0, 0.9), material=wall_material),\n",
    "        #kb.Cube(name='ewall', scale=(2, 0.1, 1), position=(0, 2, 0.9), material=wall_material),\n",
    "        #kb.Cube(name='swall', scale=(0.1, 2, 1), position=(2, 0, 0.9), material=wall_material),\n",
    "        #kb.Cube(name='wwall', scale=(2, 0.1, 1), position=(0, -2, 0.9), material=wall_material),\n",
    "        #kb.Cube(name='ceiling', scale=(2, 2, 1), position=(0, 0, 1.9), material=wall_material)\n",
    "    ]\n",
    "    for wall in walls:\n",
    "        scene += wall\n",
    "        wall.linked_objects[renderer].cycles.is_shadow_catcher = True\n",
    "\n",
    "    #light_pose = R.from_euler('xz', (50, 70), degrees=True).apply([0, 2, 0])\n",
    "    #scene += kb.PointLight(name=\"point_light\", position=light_pose, intensity=15)\n",
    "    \n",
    "    scene += kb.assets.utils.get_clevr_lights(rng=np.random.RandomState(0))\n",
    "    #scene.ambient_illumination = kb.Color(0.05, 0.05, 0.05)\n",
    "\n",
    "    scene.camera = kb.PerspectiveCamera()\n",
    "    centroid = (0, 0, 0.2)\n",
    "    camera_poses = [centroid + R.from_euler('xz', (15, a), degrees=True).apply([0, 1.5, 0]) for a in camera_angles]\n",
    "    scene.frame_end = len(camera_poses)\n",
    "    for i in range(scene.frame_start, scene.frame_end + 1):\n",
    "        scene.camera.position = camera_poses[i-1]\n",
    "        scene.camera.look_at(centroid)\n",
    "        scene.camera.keyframe_insert(\"position\", i)\n",
    "        scene.camera.keyframe_insert(\"quaternion\", i)\n",
    "    \n",
    "    return scene, renderer"
   ]
  },
  {
   "cell_type": "code",
   "execution_count": 7,
   "id": "072cd384",
   "metadata": {},
   "outputs": [],
   "source": [
    "def center_obj(obj):\n",
    "    obj.quaternion = kb.Quaternion(axis=[1, 0, 0], degrees=90)\n",
    "    obj.position = (0, 0, obj.position[2] - obj.aabbox[0][2])"
   ]
  },
  {
   "cell_type": "code",
   "execution_count": 8,
   "id": "5976382d",
   "metadata": {},
   "outputs": [],
   "source": [
    "def save_frame(data_stack, asset_id, new_metadatas):\n",
    "    asset_render_path = renders_path / asset_id\n",
    "    asset_render_path.mkdir(parents=True, exist_ok=True)\n",
    "    asset_meta_path = asset_render_path / 'metadata.json'\n",
    "    if asset_meta_path.is_file():\n",
    "        with open(asset_meta_path, 'r') as f:\n",
    "            metadatas = json.load(f)\n",
    "            metadata_list = {int(k): v for k, v in metadata_list.items()}\n",
    "    else:\n",
    "        metadatas = {}\n",
    "    offset = 1 + max(metadatas, default=-1)\n",
    "    \n",
    "    kb.file_io.write_rgba_batch(data_stack[\"rgba\"], str(asset_render_path), file_template='rgba_{:05d}.png')\n",
    "    kb.file_io.write_depth_batch(data_stack[\"depth\"], str(asset_render_path), file_template='depth_{:05d}.png')\n",
    "    kb.file_io.write_segmentation_batch(data_stack[\"segmentation\"], str(asset_render_path), file_template='segmentation_{:05d}.png')\n",
    "    \n",
    "    for i, metadata in enumerate(new_metadatas):\n",
    "        metadata['id'] = i + offset\n",
    "        metadata['rgba_filename'] = f\"{metadata['name']}_rgba_{metadata['id']:05d}.png\"\n",
    "        metadata['depth_filename'] = f\"{metadata['name']}_depth_{metadata['id']:05d}.png\"\n",
    "        metadata['segmentation_filename'] = f\"{metadata['name']}_segmentation_{metadata['id']:05d}.png\"\n",
    "        os.rename(asset_render_path / 'rgba_{:05d}.png'.format(i), str(asset_render_path / metadata['rgba_flename']))\n",
    "        os.rename(asset_render_path / 'depth_{:05d}.png'.format(i), str(asset_render_path / metadata['depth_filename']))\n",
    "        os.rename(asset_render_path / 'segmentation_{:05d}.png'.format(i), str(asset_render_path / metadata['segmentation_filename']))\n",
    "        metadatas[metadata['id']] = metadata\n",
    "\n",
    "    with open(asset_meta_path, 'w') as f:\n",
    "        json.dump(metadatas, f, indent=4)"
   ]
  },
  {
   "cell_type": "code",
   "execution_count": 9,
   "id": "7d467276",
   "metadata": {},
   "outputs": [],
   "source": [
    "def render_batch(resolution, asset_ids, camera_angles=[], num_random=0, angle_range=(0, 360)):\n",
    "    scene, renderer = setup(camera_angles + [0]*num_random, resolution)\n",
    "    centroid = (0, 0, 0.2)\n",
    "    \n",
    "    for i in tqdm(range(len(asset_ids)), desc='Rendering...'):\n",
    "        asset_id = asset_ids[i]\n",
    "        obj = shapenet.create(asset_ids[i])\n",
    "        center_obj(obj)\n",
    "        scene.add(obj)\n",
    "        \n",
    "        random_angles = (angle_range[0] + np.random.rand(num_random) * (angle_range[1] - angle_range[0])).tolist()\n",
    "        for j, angle in enumerate(random_angles):\n",
    "            scene.camera.position = centroid + R.from_euler('xz', (15, angle), degrees=True).apply([0, 1.5, 0])\n",
    "            scene.camera.look_at(centroid)\n",
    "            scene.camera.keyframe_insert(\"position\", j+len(camera_angles)+1)\n",
    "            scene.camera.keyframe_insert(\"quaternion\", j+len(camera_angles)+1)\n",
    "        \n",
    "        metadatas = [{ 'angle': angle, 'resolution': resolution } for angle in camera_angles + random_angles]\n",
    "        for i, angle in enumerate(camera_angles):\n",
    "            metadatas[i]['name'] = f\"angle_{angle}\"\n",
    "        for i in range(len(camera_angles), len(camera_angles) + num_random):\n",
    "            metadatas[i]['name'] = f\"random_{angle_range}\"\n",
    "        data_stack = renderer.render()\n",
    "    \n",
    "        kb.compute_visibility(data_stack[\"segmentation\"], scene.assets)\n",
    "        data_stack[\"segmentation\"] = kb.adjust_segmentation_idxs(\n",
    "            data_stack[\"segmentation\"],\n",
    "            scene.assets,\n",
    "            [obj]).astype(np.uint8)\n",
    "        save_frame(data_stack, asset_id, metadatas)\n",
    "        scene.remove(obj)"
   ]
  },
  {
   "cell_type": "code",
   "execution_count": 10,
   "id": "ae3b6ff3",
   "metadata": {},
   "outputs": [],
   "source": [
    "shapenet = ShapeNet()\n",
    "cars = shapenet.get_category('car')\n",
    "failed_ids = [695]\n",
    "cars = [car for i, car in enumerate(cars) if i not in failed_ids]"
   ]
  },
  {
   "cell_type": "code",
   "execution_count": 12,
   "id": "09410a4f",
   "metadata": {},
   "outputs": [
    {
     "data": {
      "text/plain": [
       "'02958343/3973846825fc4d857cb2a55fa21392b7'"
      ]
     },
     "execution_count": 13,
     "metadata": {},
     "output_type": "execute_result"
    }
   ],
   "source": [
    "cars[695]"
   ]
  },
  {
   "cell_type": "code",
   "execution_count": 20,
   "id": "6313869e",
   "metadata": {},
   "outputs": [
    {
     "name": "stdout",
     "output_type": "stream",
     "text": [
      "Rendering batch 695 to 795\n"
     ]
    },
    {
     "name": "stderr",
     "output_type": "stream",
     "text": [
      "Rendering...: 100%|██████████████████████████████████████████████████████████████████████████████████████████████| 100/100 [07:17<00:00,  4.38s/it]"
     ]
    },
    {
     "name": "stdout",
     "output_type": "stream",
     "text": [
      "Rendering batch 795 to 895\n"
     ]
    },
    {
     "name": "stderr",
     "output_type": "stream",
     "text": [
      "\n",
      "Rendering...: 100%|██████████████████████████████████████████████████████████████████████████████████████████████| 100/100 [07:19<00:00,  4.39s/it]"
     ]
    },
    {
     "name": "stdout",
     "output_type": "stream",
     "text": [
      "Rendering batch 895 to 995\n"
     ]
    },
    {
     "name": "stderr",
     "output_type": "stream",
     "text": [
      "\n",
      "Rendering...: 100%|██████████████████████████████████████████████████████████████████████████████████████████████| 100/100 [07:05<00:00,  4.25s/it]"
     ]
    },
    {
     "name": "stdout",
     "output_type": "stream",
     "text": [
      "Rendering batch 995 to 1095\n"
     ]
    },
    {
     "name": "stderr",
     "output_type": "stream",
     "text": [
      "\n",
      "Rendering...: 100%|██████████████████████████████████████████████████████████████████████████████████████████████| 100/100 [07:10<00:00,  4.31s/it]"
     ]
    },
    {
     "name": "stdout",
     "output_type": "stream",
     "text": [
      "Rendering batch 1095 to 1195\n"
     ]
    },
    {
     "name": "stderr",
     "output_type": "stream",
     "text": [
      "\n",
      "Rendering...: 100%|██████████████████████████████████████████████████████████████████████████████████████████████| 100/100 [07:16<00:00,  4.36s/it]"
     ]
    },
    {
     "name": "stdout",
     "output_type": "stream",
     "text": [
      "Rendering batch 1195 to 1295\n"
     ]
    },
    {
     "name": "stderr",
     "output_type": "stream",
     "text": [
      "\n",
      "Rendering...: 100%|██████████████████████████████████████████████████████████████████████████████████████████████| 100/100 [07:24<00:00,  4.44s/it]"
     ]
    },
    {
     "name": "stdout",
     "output_type": "stream",
     "text": [
      "Rendering batch 1295 to 1395\n"
     ]
    },
    {
     "name": "stderr",
     "output_type": "stream",
     "text": [
      "\n",
      "Rendering...: 100%|██████████████████████████████████████████████████████████████████████████████████████████████| 100/100 [07:18<00:00,  4.38s/it]"
     ]
    },
    {
     "name": "stdout",
     "output_type": "stream",
     "text": [
      "Rendering batch 1395 to 1495\n"
     ]
    },
    {
     "name": "stderr",
     "output_type": "stream",
     "text": [
      "\n",
      "Rendering...: 100%|██████████████████████████████████████████████████████████████████████████████████████████████| 100/100 [07:41<00:00,  4.61s/it]"
     ]
    },
    {
     "name": "stdout",
     "output_type": "stream",
     "text": [
      "Rendering batch 1495 to 1595\n"
     ]
    },
    {
     "name": "stderr",
     "output_type": "stream",
     "text": [
      "\n",
      "Rendering...: 100%|██████████████████████████████████████████████████████████████████████████████████████████████| 100/100 [07:23<00:00,  4.43s/it]"
     ]
    },
    {
     "name": "stdout",
     "output_type": "stream",
     "text": [
      "Rendering batch 1595 to 1695\n"
     ]
    },
    {
     "name": "stderr",
     "output_type": "stream",
     "text": [
      "\n",
      "Rendering...: 100%|██████████████████████████████████████████████████████████████████████████████████████████████| 100/100 [07:28<00:00,  4.49s/it]"
     ]
    },
    {
     "name": "stdout",
     "output_type": "stream",
     "text": [
      "Rendering batch 1695 to 1795\n"
     ]
    },
    {
     "name": "stderr",
     "output_type": "stream",
     "text": [
      "\n",
      "Rendering...: 100%|██████████████████████████████████████████████████████████████████████████████████████████████| 100/100 [07:22<00:00,  4.43s/it]"
     ]
    },
    {
     "name": "stdout",
     "output_type": "stream",
     "text": [
      "Rendering batch 1795 to 1895\n"
     ]
    },
    {
     "name": "stderr",
     "output_type": "stream",
     "text": [
      "\n",
      "Rendering...: 100%|██████████████████████████████████████████████████████████████████████████████████████████████| 100/100 [07:19<00:00,  4.40s/it]"
     ]
    },
    {
     "name": "stdout",
     "output_type": "stream",
     "text": [
      "Rendering batch 1895 to 1995\n"
     ]
    },
    {
     "name": "stderr",
     "output_type": "stream",
     "text": [
      "\n",
      "Rendering...: 100%|██████████████████████████████████████████████████████████████████████████████████████████████| 100/100 [07:30<00:00,  4.51s/it]"
     ]
    },
    {
     "name": "stdout",
     "output_type": "stream",
     "text": [
      "Rendering batch 1995 to 2095\n"
     ]
    },
    {
     "name": "stderr",
     "output_type": "stream",
     "text": [
      "\n",
      "Rendering...: 100%|██████████████████████████████████████████████████████████████████████████████████████████████| 100/100 [08:06<00:00,  4.86s/it]"
     ]
    },
    {
     "name": "stdout",
     "output_type": "stream",
     "text": [
      "Rendering batch 2095 to 2195\n"
     ]
    },
    {
     "name": "stderr",
     "output_type": "stream",
     "text": [
      "\n",
      "Rendering...: 100%|██████████████████████████████████████████████████████████████████████████████████████████████| 100/100 [07:31<00:00,  4.51s/it]"
     ]
    },
    {
     "name": "stdout",
     "output_type": "stream",
     "text": [
      "Rendering batch 2195 to 2295\n"
     ]
    },
    {
     "name": "stderr",
     "output_type": "stream",
     "text": [
      "\n",
      "Rendering...: 100%|██████████████████████████████████████████████████████████████████████████████████████████████| 100/100 [07:32<00:00,  4.53s/it]"
     ]
    },
    {
     "name": "stdout",
     "output_type": "stream",
     "text": [
      "Rendering batch 2295 to 2395\n"
     ]
    },
    {
     "name": "stderr",
     "output_type": "stream",
     "text": [
      "\n",
      "Rendering...: 100%|██████████████████████████████████████████████████████████████████████████████████████████████| 100/100 [07:33<00:00,  4.53s/it]"
     ]
    },
    {
     "name": "stdout",
     "output_type": "stream",
     "text": [
      "Rendering batch 2395 to 2495\n"
     ]
    },
    {
     "name": "stderr",
     "output_type": "stream",
     "text": [
      "\n",
      "Rendering...: 100%|██████████████████████████████████████████████████████████████████████████████████████████████| 100/100 [07:22<00:00,  4.42s/it]"
     ]
    },
    {
     "name": "stdout",
     "output_type": "stream",
     "text": [
      "Rendering batch 2495 to 2595\n"
     ]
    },
    {
     "name": "stderr",
     "output_type": "stream",
     "text": [
      "\n",
      "Rendering...: 100%|██████████████████████████████████████████████████████████████████████████████████████████████| 100/100 [07:23<00:00,  4.43s/it]"
     ]
    },
    {
     "name": "stdout",
     "output_type": "stream",
     "text": [
      "Rendering batch 2595 to 2695\n"
     ]
    },
    {
     "name": "stderr",
     "output_type": "stream",
     "text": [
      "\n",
      "Rendering...: 100%|██████████████████████████████████████████████████████████████████████████████████████████████| 100/100 [07:23<00:00,  4.43s/it]"
     ]
    },
    {
     "name": "stdout",
     "output_type": "stream",
     "text": [
      "Rendering batch 2695 to 2795\n"
     ]
    },
    {
     "name": "stderr",
     "output_type": "stream",
     "text": [
      "\n",
      "Rendering...: 100%|██████████████████████████████████████████████████████████████████████████████████████████████| 100/100 [07:40<00:00,  4.60s/it]"
     ]
    },
    {
     "name": "stdout",
     "output_type": "stream",
     "text": [
      "Rendering batch 2795 to 2895\n"
     ]
    },
    {
     "name": "stderr",
     "output_type": "stream",
     "text": [
      "\n",
      "Rendering...: 100%|██████████████████████████████████████████████████████████████████████████████████████████████| 100/100 [07:26<00:00,  4.47s/it]"
     ]
    },
    {
     "name": "stdout",
     "output_type": "stream",
     "text": [
      "Rendering batch 2895 to 2995\n"
     ]
    },
    {
     "name": "stderr",
     "output_type": "stream",
     "text": [
      "\n",
      "Rendering...: 100%|██████████████████████████████████████████████████████████████████████████████████████████████| 100/100 [07:36<00:00,  4.57s/it]"
     ]
    },
    {
     "name": "stdout",
     "output_type": "stream",
     "text": [
      "Rendering batch 2995 to 3095\n"
     ]
    },
    {
     "name": "stderr",
     "output_type": "stream",
     "text": [
      "\n",
      "Rendering...: 100%|██████████████████████████████████████████████████████████████████████████████████████████████| 100/100 [07:28<00:00,  4.49s/it]"
     ]
    },
    {
     "name": "stdout",
     "output_type": "stream",
     "text": [
      "Rendering batch 3095 to 3195\n"
     ]
    },
    {
     "name": "stderr",
     "output_type": "stream",
     "text": [
      "\n",
      "Rendering...: 100%|██████████████████████████████████████████████████████████████████████████████████████████████| 100/100 [07:44<00:00,  4.64s/it]"
     ]
    },
    {
     "name": "stdout",
     "output_type": "stream",
     "text": [
      "Rendering batch 3195 to 3295\n"
     ]
    },
    {
     "name": "stderr",
     "output_type": "stream",
     "text": [
      "\n",
      "Rendering...: 100%|██████████████████████████████████████████████████████████████████████████████████████████████| 100/100 [07:30<00:00,  4.51s/it]"
     ]
    },
    {
     "name": "stdout",
     "output_type": "stream",
     "text": [
      "Rendering batch 3295 to 3395\n"
     ]
    },
    {
     "name": "stderr",
     "output_type": "stream",
     "text": [
      "\n",
      "Rendering...: 100%|██████████████████████████████████████████████████████████████████████████████████████████████| 100/100 [07:31<00:00,  4.51s/it]"
     ]
    },
    {
     "name": "stdout",
     "output_type": "stream",
     "text": [
      "Rendering batch 3395 to 3485\n"
     ]
    },
    {
     "name": "stderr",
     "output_type": "stream",
     "text": [
      "\n",
      "Rendering...: 100%|████████████████████████████████████████████████████████████████████████████████████████████████| 90/90 [06:38<00:00,  4.43s/it]\n"
     ]
    }
   ],
   "source": [
    "camera_angles = [30, 60, 150]\n",
    "num_random = 5\n",
    "angle_range = (20, 70)\n",
    "resolution = (128, 128)\n",
    "batch_size = 100\n",
    "batch_indices = list(range(695, len(cars), batch_size))\n",
    "for start in batch_indices:\n",
    "    print(f'Rendering batch {start} to {min(start+batch_size, len(cars))}')\n",
    "    render_batch(resolution, cars[start:start+batch_size], [], num_random, angle_range)"
   ]
  },
  {
   "cell_type": "code",
   "execution_count": 18,
   "id": "cbba760b",
   "metadata": {},
   "outputs": [],
   "source": [
    "def modify_metadata():\n",
    "    for asset_id in cars[695:]:\n",
    "        asset_render_path = renders_path / asset_id\n",
    "        try:\n",
    "            with open(asset_render_path / 'metadata_list.json', 'r') as f:\n",
    "                metadata_list = json.load(f)\n",
    "        except:\n",
    "            continue\n",
    "\n",
    "        for i, metadata in enumerate(metadata_list):\n",
    "            pass\n",
    "            \n",
    "        with open(asset_render_path / 'metadata_list.json', 'w') as f:\n",
    "            json.dump(metadata_list, f, indent=4)"
   ]
  }
 ],
 "metadata": {
  "kernelspec": {
   "display_name": "Python 3 (ipykernel)",
   "language": "python",
   "name": "python3"
  },
  "language_info": {
   "codemirror_mode": {
    "name": "ipython",
    "version": 3
   },
   "file_extension": ".py",
   "mimetype": "text/x-python",
   "name": "python",
   "nbconvert_exporter": "python",
   "pygments_lexer": "ipython3",
   "version": "3.8.13"
  }
 },
 "nbformat": 4,
 "nbformat_minor": 5
}
