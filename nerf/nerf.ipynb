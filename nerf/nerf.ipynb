{
 "cells": [
  {
   "cell_type": "code",
   "execution_count": 1,
   "id": "6ff2d78b",
   "metadata": {},
   "outputs": [],
   "source": [
    "from wisp.config_parser import parse_options, get_modules_from_config, get_optimizer_from_config, argparse_to_str\n",
    "from wisp.trainers import *"
   ]
  },
  {
   "cell_type": "code",
   "execution_count": 2,
   "id": "e652c8ed",
   "metadata": {},
   "outputs": [],
   "source": [
    "from pathlib import Path\n",
    "\n",
    "config_path = '/mnt/ML/kaolin_wisp/kaolin-wisp/configs/ngp_nerf.yaml'\n",
    "dataset_path = '/mnt/ML/novel_view_synthesis/render/renders_4096_views_1_class_512/02958343/10555502fa7b3027283ffcfc40c29975'\n",
    "\n",
    "args_str = f'--config {config_path} --dataset-path {dataset_path} --mip 1 --num-rays-sampled-per-img {1 << 12} --camera-origin -3.0 1.0 -3.0'\n",
    "argv = args_str.split()"
   ]
  },
  {
   "cell_type": "code",
   "execution_count": 4,
   "id": "f8d354c7",
   "metadata": {},
   "outputs": [
    {
     "name": "stderr",
     "output_type": "stream",
     "text": [
      "usage: ipykernel_launcher.py [-h] [--trainer-type TRAINER_TYPE]\n",
      "                             [--exp-name EXP_NAME] [--perf] [--detect-anomaly]\n",
      "                             [--config CONFIG]\n",
      "                             [--grid-type {None,OctreeGrid,CodebookOctreeGrid,TriplanarGrid,HashGrid}]\n",
      "                             [--interpolation-type {linear,closest}]\n",
      "                             [--as-type {none,octree}]\n",
      "                             [--raymarch-type {voxel,ray}]\n",
      "                             [--multiscale-type {cat,sum}]\n",
      "                             [--feature-dim FEATURE_DIM]\n",
      "                             [--feature-std FEATURE_STD]\n",
      "                             [--feature-bias FEATURE_BIAS]\n",
      "                             [--noise-std NOISE_STD] [--num-lods NUM_LODS]\n",
      "                             [--base-lod BASE_LOD]\n",
      "                             [--max-grid-res MAX_GRID_RES]\n",
      "                             [--tree-type {quad,geometric}]\n",
      "                             [--codebook-bitwidth CODEBOOK_BITWIDTH]\n",
      "                             [--embedder-type {none,positional,fourier}]\n",
      "                             [--pos-multires POS_MULTIRES]\n",
      "                             [--view-multires VIEW_MULTIRES]\n",
      "                             [--nef-type NEF_TYPE]\n",
      "                             [--layer-type {none,spectral_norm,frobenius_norm,l_1_norm,l_inf_norm}]\n",
      "                             [--activation-type {relu,sin}]\n",
      "                             [--decoder-type {none,basic}]\n",
      "                             [--num-layers NUM_LAYERS]\n",
      "                             [--hidden-dim HIDDEN_DIM] [--out-dim OUT_DIM]\n",
      "                             [--skip SKIP] [--pretrained PRETRAINED]\n",
      "                             [--position-input]\n",
      "                             [--dataset-type {sdf,multiview}]\n",
      "                             [--dataset-path DATASET_PATH]\n",
      "                             [--dataset-num-workers DATASET_NUM_WORKERS]\n",
      "                             [--sample-mode [SAMPLE_MODE [SAMPLE_MODE ...]]]\n",
      "                             [--get-normals] [--num-samples NUM_SAMPLES]\n",
      "                             [--num-samples-on-mesh NUM_SAMPLES_ON_MESH]\n",
      "                             [--sample-tex]\n",
      "                             [--mode-mesh-norm {sphere,aabb,planar,none}]\n",
      "                             [--samples-per-voxel SAMPLES_PER_VOXEL]\n",
      "                             [--multiview-dataset-format {standard,rtmv}]\n",
      "                             [--num-rays-sampled-per-img NUM_RAYS_SAMPLED_PER_IMG]\n",
      "                             [--bg-color {white,black}] [--mip MIP]\n",
      "                             [--optimizer-type {asgd,adadelta,adagrad,adam,adamw,adamax,lbfgs,nadam,optimizer,radam,rmsprop,rprop,sgd,sparseadam}]\n",
      "                             [--lr LR] [--weight-decay WEIGHT_DECAY]\n",
      "                             [--grid-lr-weight GRID_LR_WEIGHT]\n",
      "                             [--rgb-loss RGB_LOSS] [--epochs EPOCHS]\n",
      "                             [--batch-size BATCH_SIZE] [--resample]\n",
      "                             [--only-last] [--resample-every RESAMPLE_EVERY]\n",
      "                             [--model-format {full,state_dict}]\n",
      "                             [--save-as-new] [--save-every SAVE_EVERY]\n",
      "                             [--render-every RENDER_EVERY] [--log-2d]\n",
      "                             [--log-dir LOG_DIR] [--grow-every GROW_EVERY]\n",
      "                             [--prune-every PRUNE_EVERY] [--random-lod]\n",
      "                             [--growth-strategy {onebyone,increase,shrink,finetocoarse,onlylast}]\n",
      "                             [--valid-only] [--valid-every VALID_EVERY]\n",
      "                             [--valid-split VALID_SPLIT]\n",
      "                             [--render-res RENDER_RES RENDER_RES]\n",
      "                             [--render-batch RENDER_BATCH]\n",
      "                             [--camera-origin CAMERA_ORIGIN CAMERA_ORIGIN CAMERA_ORIGIN]\n",
      "                             [--camera-lookat CAMERA_LOOKAT CAMERA_LOOKAT CAMERA_LOOKAT]\n",
      "                             [--camera-fov CAMERA_FOV]\n",
      "                             [--camera-proj {ortho,persp}]\n",
      "                             [--camera-clamp CAMERA_CLAMP CAMERA_CLAMP]\n",
      "                             [--tracer-type TRACER_TYPE]\n",
      "                             [--num-steps NUM_STEPS] [--step-size STEP_SIZE]\n",
      "                             [--min-dis MIN_DIS] [--matcap-path MATCAP_PATH]\n",
      "                             [--ao] [--shadow]\n",
      "                             [--shading-mode {matcap,rb,normal}]\n",
      "ipykernel_launcher.py: error: unrecognized arguments: --bg_color gray\n"
     ]
    },
    {
     "ename": "SystemExit",
     "evalue": "2",
     "output_type": "error",
     "traceback": [
      "An exception has occurred, use %tb to see the full traceback.\n",
      "\u001b[0;31mSystemExit\u001b[0m\u001b[0;31m:\u001b[0m 2\n"
     ]
    },
    {
     "name": "stderr",
     "output_type": "stream",
     "text": [
      "/opt/conda/lib/python3.8/site-packages/IPython/core/interactiveshell.py:3386: UserWarning: To exit: use 'exit', 'quit', or Ctrl-D.\n",
      "  warn(\"To exit: use 'exit', 'quit', or Ctrl-D.\", stacklevel=1)\n"
     ]
    }
   ],
   "source": [
    "import app_utils\n",
    "import sys\n",
    "\n",
    "sys.argv = sys.argv[:1] + argv\n",
    "\n",
    "parser = parse_options(return_parser=True)\n",
    "\n",
    "parser.parse_args()\n",
    "app_utils.add_log_level_flag(parser)\n",
    "app_group = parser.add_argument_group('app')\n",
    "\n",
    "args, args_str = argparse_to_str(parser)\n",
    "\n",
    "app_utils.default_log_setup(args.log_level)"
   ]
  },
  {
   "cell_type": "code",
   "execution_count": null,
   "id": "d287161a",
   "metadata": {},
   "outputs": [],
   "source": [
    "pipeline, train_dataset, device = get_modules_from_config(args)\n",
    "optim_cls, optim_params = get_optimizer_from_config(args)\n",
    "trainer = globals()[args.trainer_type](pipeline, train_dataset, args.epochs, args.batch_size,\n",
    "                                  optim_cls, args.lr, args.weight_decay,\n",
    "                                  args.grid_lr_weight, optim_params, args.log_dir, device,\n",
    "                                  exp_name=args.exp_name, info=args_str, extra_args=vars(args),\n",
    "                                  render_every=args.render_every, save_every=args.save_every)"
   ]
  },
  {
   "cell_type": "code",
   "execution_count": null,
   "id": "3bece525",
   "metadata": {},
   "outputs": [],
   "source": [
    "trainer.train()"
   ]
  }
 ],
 "metadata": {
  "kernelspec": {
   "display_name": "Python 3 (ipykernel)",
   "language": "python",
   "name": "python3"
  },
  "language_info": {
   "codemirror_mode": {
    "name": "ipython",
    "version": 3
   },
   "file_extension": ".py",
   "mimetype": "text/x-python",
   "name": "python",
   "nbconvert_exporter": "python",
   "pygments_lexer": "ipython3",
   "version": "3.8.13"
  }
 },
 "nbformat": 4,
 "nbformat_minor": 5
}
