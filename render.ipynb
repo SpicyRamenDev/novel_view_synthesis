{
 "cells": [
  {
   "cell_type": "code",
   "execution_count": null,
   "id": "b5bf1dd9-a208-4743-ba6a-7755ef79c058",
   "metadata": {},
   "outputs": [],
   "source": [
    "import os\n",
    "import logging\n",
    "import numpy as np\n",
    "import bpy\n",
    "from scipy.spatial.transform import Rotation as R\n",
    "\n",
    "import tensorflow as tf\n",
    "from PIL import Image\n",
    "from pathlib import Path\n",
    "from tqdm import tqdm\n",
    "import json\n",
    "import urllib3\n",
    "import shutil\n",
    "import tarfile\n",
    "import sys\n",
    "import os\n",
    "os.environ[\"KUBRIC_USE_GPU\"] = \"1\"\n",
    "\n",
    "http = urllib3.PoolManager()\n",
    "\n",
    "import kubric as kb\n",
    "from kubric.renderer import Blender"
   ]
  },
  {
   "cell_type": "code",
   "execution_count": null,
   "id": "d4ede192-e760-46d9-9264-79e8b9659317",
   "metadata": {},
   "outputs": [],
   "source": [
    "devnull = os.open('/dev/null', os.O_WRONLY)\n",
    "os.dup2(devnull, 1)\n",
    "os.close(devnull)"
   ]
  },
  {
   "cell_type": "code",
   "execution_count": null,
   "id": "d17e0b08-f508-413e-9d3f-ec53d9a07edd",
   "metadata": {},
   "outputs": [],
   "source": [
    "shapenet_gs = 'gs://kubric-unlisted/assets/ShapeNetCore.v2/'\n",
    "manifest_gs = 'gs://kubric-unlisted/assets/ShapeNetCore.v2.json'\n",
    "manifest_path = Path('ShapeNetCore.v2.json')\n",
    "shapenet_path = Path('shapenet')\n",
    "renders_path = Path('renders')"
   ]
  },
  {
   "cell_type": "code",
   "execution_count": null,
   "id": "ba64f251-763e-4ca1-9288-66299232fb72",
   "metadata": {},
   "outputs": [],
   "source": [
    "def fetch_gs(src_gs, dest_path):\n",
    "    if not dest_path.exists():\n",
    "        dest_path.parent.mkdir(parents=True, exist_ok=True)\n",
    "        tf.io.gfile.copy(src_gs, dest_path)\n",
    "\n",
    "def fetch_url(src_url, dest_path):\n",
    "    if not dest_path.exists():\n",
    "        dest_path.parent.mkdir(parents=True, exist_ok=True)\n",
    "        with http.request('GET', src_url, preload_content=False) as r, open(dest_path, 'wb') as dest_file:\n",
    "            shutil.copyfileobj(r, dest_file)"
   ]
  },
  {
   "cell_type": "code",
   "execution_count": null,
   "id": "76416359-c050-47a2-aa89-0ba80577f227",
   "metadata": {
    "tags": []
   },
   "outputs": [],
   "source": [
    "class ShapeNet():\n",
    "    def __init__(self):\n",
    "        fetch_gs(manifest_gs, manifest_path)\n",
    "        with open(manifest_path, 'rb') as manifest_file:\n",
    "            manifest = json.loads(manifest_file.read())\n",
    "        self.assets = manifest['assets']\n",
    "    \n",
    "    def fetch_asset_tar(self, asset_id):\n",
    "        path = shapenet_path / (asset_id + \".tar.gz\")\n",
    "        fetch_gs(shapenet_gs + (asset_id + \".tar.gz\"), path)\n",
    "        return path\n",
    "    \n",
    "    def fetch_asset(self, asset_id):\n",
    "        path = shapenet_path / asset_id\n",
    "        if not path.is_dir():\n",
    "            tar_path = self.fetch_asset_tar(asset_id)\n",
    "            with tarfile.open(tar_path) as tar:\n",
    "                tar.extractall(path)\n",
    "        return path\n",
    "    \n",
    "    def get_category(self, category):\n",
    "        return [asset_id for asset_id, asset in self.assets.items() if asset['metadata']['category'] == category]\n",
    "    \n",
    "    def fetch_category_tar(self, category):\n",
    "        asset_ids = self.get_category(category)\n",
    "        for i in tqdm(range(len(asset_ids)), desc='Fetching tar...'):\n",
    "            asset_id = asset_ids[i]\n",
    "            self.fetch_asset_tar(asset_id)\n",
    "    \n",
    "    def fetch_category(self, category):\n",
    "        asset_ids = self.get_category(category)\n",
    "        for i in tqdm(range(len(asset_ids)), desc='Fetching...'):\n",
    "            asset_id = asset_ids[i]\n",
    "            self.fetch_asset(asset_id)\n",
    "    \n",
    "    def create(self, asset_id):\n",
    "        asset_entry = self.assets[asset_id]\n",
    "        asset_type = kb.AssetSource._resolve_asset_type(asset_entry[\"asset_type\"])\n",
    "        asset_dir = self.fetch_asset(asset_id)\n",
    "\n",
    "        asset_kwargs = asset_entry.get(\"kwargs\", {})\n",
    "        asset_kwargs = kb.AssetSource._adjust_paths(asset_kwargs, asset_dir)\n",
    "        if asset_type == kb.core.FileBasedObject:\n",
    "            asset_kwargs[\"asset_id\"] = asset_id\n",
    "        asset = asset_type(**asset_kwargs)\n",
    "        asset.metadata.update(asset_entry.get(\"metadata\", {}))\n",
    "\n",
    "        return asset"
   ]
  },
  {
   "cell_type": "code",
   "execution_count": null,
   "id": "c7c0e2bf-592b-40f6-8cb6-b170664895b9",
   "metadata": {},
   "outputs": [],
   "source": [
    "def setup(camera_angles, resolution):\n",
    "    scene = kb.Scene(resolution=resolution)\n",
    "    renderer = Blender(scene=scene, use_denoising=True, adaptive_sampling=False)\n",
    "\n",
    "    scene += kb.Cube(name='floor', scale=(2, 2, 0.1), position=(0, 0, -0.1))\n",
    "    scene += kb.Cube(name='nwall', scale=(0.1, 2, 1), position=(-2, 0, 0.9))\n",
    "    scene += kb.Cube(name='ewall', scale=(2, 0.1, 1), position=(0, 2, 0.9))\n",
    "    scene += kb.Cube(name='swall', scale=(0.1, 2, 1), position=(2, 0, 0.9))\n",
    "    scene += kb.Cube(name='wwall', scale=(2, 0.1, 1), position=(0, -2, 0.9))\n",
    "    scene += kb.Cube(name='ceiling', scale=(2, 2, 0.1), position=(0, 0, 1.9))\n",
    "\n",
    "    light_pose = R.from_euler('xz', (50, 70), degrees=True).apply([0, 2, 0])\n",
    "    scene += kb.PointLight(name=\"point_light\", position=light_pose, intensity=15)\n",
    "\n",
    "    scene.camera = kb.PerspectiveCamera()\n",
    "    centroid = (0, 0, 0.2)\n",
    "    camera_poses = [centroid + R.from_euler('xz', (15, a), degrees=True).apply([0, 1.5, 0]) for a in camera_angles]\n",
    "    scene.frame_end = len(camera_poses)\n",
    "    for i in range(scene.frame_start, scene.frame_end + 1):\n",
    "        scene.camera.position = camera_poses[i-1]\n",
    "        scene.camera.look_at(centroid)\n",
    "        scene.camera.keyframe_insert(\"position\", i)\n",
    "        scene.camera.keyframe_insert(\"quaternion\", i)\n",
    "    \n",
    "    return scene, renderer"
   ]
  },
  {
   "cell_type": "code",
   "execution_count": null,
   "id": "416722d7-3a65-4444-881d-1761cc185bb4",
   "metadata": {},
   "outputs": [],
   "source": [
    "def center_obj(obj):\n",
    "    obj.quaternion = kb.Quaternion(axis=[1, 0, 0], degrees=90)\n",
    "    obj.position = (0, 0, obj.position[2] - obj.aabbox[0][2])"
   ]
  },
  {
   "cell_type": "code",
   "execution_count": null,
   "id": "30033a93-e022-45d0-9448-a2a4fdf39e5c",
   "metadata": {},
   "outputs": [],
   "source": [
    "def save_frame(frame, asset_id, names):\n",
    "    asset_render_path = renders_path / asset_id\n",
    "    asset_render_path.mkdir(parents=True, exist_ok=True)\n",
    "    \n",
    "    for i in range(len(frame['rgba'])):\n",
    "        color = frame['rgba'][i]\n",
    "        color_image = Image.fromarray(color)\n",
    "        filename = 'color_' + names[i] + '.png'\n",
    "        color_image.save(asset_render_path / filename)\n",
    "        \n",
    "    for i in range(len(frame['depth'])):\n",
    "        depth = frame['depth'][i]\n",
    "        depth = (65535 * (1 - depth / 5))\n",
    "        depth_image = Image.fromarray(depth.reshape(depth.shape[:2]).astype(np.uint16))\n",
    "        filename = 'depth_' + names[i] + '.png'\n",
    "        depth_image.save(asset_render_path / filename)"
   ]
  },
  {
   "cell_type": "code",
   "execution_count": null,
   "id": "739a5942-c95c-4cfd-a5f0-8793603602dc",
   "metadata": {},
   "outputs": [],
   "source": [
    "def render_batch(camera_angles, resolution, asset_ids):\n",
    "    scene, renderer = setup([], resolution)\n",
    "    names = [f'angle{camera_angle}_res{resolution[0]}x{resolution[1]}' for camera_angle in camera_angles]\n",
    "    objs = [shapenet.create(asset_id) for asset_id in asset_ids]\n",
    "    \n",
    "    for i in tqdm(range(len(asset_ids)), desc='Rendering...'):\n",
    "        asset_id = asset_ids[i]\n",
    "        obj = objs[i]\n",
    "        center_obj(obj)\n",
    "        scene.add(obj)\n",
    "        frame = renderer.render(return_layers=(\"rgba\", 'depth'))\n",
    "        scene.remove(obj)\n",
    "        save_frame(frame, asset_id, names)"
   ]
  },
  {
   "cell_type": "code",
   "execution_count": null,
   "id": "61e9a5c8-8637-4555-bb77-67ff19bc5145",
   "metadata": {},
   "outputs": [],
   "source": [
    "def render_batch_random_angles(resolution, asset_ids):\n",
    "    scene, renderer = setup([], resolution)\n",
    "    objs = [shapenet.create(asset_id) for asset_id in asset_ids]\n",
    "    centroid = (0, 0, 0.2)\n",
    "    \n",
    "    for i in tqdm(range(len(asset_ids)), desc='Rendering...'):\n",
    "        asset_id = asset_ids[i]\n",
    "        obj = objs[i]\n",
    "        center_obj(obj)\n",
    "        scene.add(obj)\n",
    "        angle = np.random.random() * 360\n",
    "        scene.camera.position = centroid + R.from_euler('xz', (15, angle), degrees=True).apply([0, 1.5, 0])\n",
    "        scene.camera.look_at(centroid)\n",
    "        name = f'random_angle{int(angle)}_res{resolution[0]}x{resolution[1]}'\n",
    "        frame = renderer.render_still(return_layers=(\"rgba\", 'depth'))\n",
    "        scene.remove(obj)\n",
    "        save_frame({k: [v] for k, v in frame.items()}, asset_id, [name])"
   ]
  },
  {
   "cell_type": "code",
   "execution_count": 11,
   "id": "db7aa278-0910-4bde-88e2-a30dd1b4f67b",
   "metadata": {},
   "outputs": [],
   "source": [
    "shapenet = ShapeNet()\n",
    "cars = shapenet.get_category('car')"
   ]
  },
  {
   "cell_type": "code",
   "execution_count": 21,
   "id": "51bd7fc4-3cbe-4fe8-9cc4-9c634304f27c",
   "metadata": {},
   "outputs": [
    {
     "name": "stdout",
     "output_type": "stream",
     "text": [
      "Rendering batch 100 to 200\n"
     ]
    },
    {
     "name": "stderr",
     "output_type": "stream",
     "text": [
      "Rendering...: 100%|██████████████████████████████████████████████████████████████████████████████████████████████| 100/100 [07:06<00:00,  4.27s/it]"
     ]
    },
    {
     "name": "stdout",
     "output_type": "stream",
     "text": [
      "Rendering batch 200 to 300\n"
     ]
    },
    {
     "name": "stderr",
     "output_type": "stream",
     "text": [
      "\n",
      "Rendering...: 100%|██████████████████████████████████████████████████████████████████████████████████████████████| 100/100 [07:10<00:00,  4.30s/it]"
     ]
    },
    {
     "name": "stdout",
     "output_type": "stream",
     "text": [
      "Rendering batch 300 to 400\n"
     ]
    },
    {
     "name": "stderr",
     "output_type": "stream",
     "text": [
      "\n",
      "Rendering...: 100%|██████████████████████████████████████████████████████████████████████████████████████████████| 100/100 [07:13<00:00,  4.34s/it]"
     ]
    },
    {
     "name": "stdout",
     "output_type": "stream",
     "text": [
      "Rendering batch 400 to 500\n"
     ]
    },
    {
     "name": "stderr",
     "output_type": "stream",
     "text": [
      "\n",
      "Rendering...: 100%|██████████████████████████████████████████████████████████████████████████████████████████████| 100/100 [07:05<00:00,  4.25s/it]"
     ]
    },
    {
     "name": "stdout",
     "output_type": "stream",
     "text": [
      "Rendering batch 500 to 600\n"
     ]
    },
    {
     "name": "stderr",
     "output_type": "stream",
     "text": [
      "\n",
      "Rendering...: 100%|██████████████████████████████████████████████████████████████████████████████████████████████| 100/100 [07:11<00:00,  4.32s/it]"
     ]
    },
    {
     "name": "stdout",
     "output_type": "stream",
     "text": [
      "Rendering batch 600 to 700\n"
     ]
    },
    {
     "name": "stderr",
     "output_type": "stream",
     "text": [
      "\n",
      "Rendering...:  95%|██████████████████████████████████████████████████████████████████████████████████████████▎    | 95/100 [06:43<00:22,  4.45s/it]"
     ]
    },
    {
     "ename": "KeyboardInterrupt",
     "evalue": "",
     "output_type": "error",
     "traceback": [
      "\u001b[0;31m---------------------------------------------------------------------------\u001b[0m",
      "\u001b[0;31mKeyboardInterrupt\u001b[0m                         Traceback (most recent call last)",
      "File \u001b[0;32m/usr/local/lib/python3.9/dist-packages/2.93/scripts/addons/cycles/__init__.py:86\u001b[0m, in \u001b[0;36mCyclesRender.render\u001b[0;34m(self, depsgraph)\u001b[0m\n\u001b[1;32m     85\u001b[0m \u001b[38;5;28;01mdef\u001b[39;00m \u001b[38;5;21mrender\u001b[39m(\u001b[38;5;28mself\u001b[39m, depsgraph):\n\u001b[0;32m---> 86\u001b[0m     \u001b[43mengine\u001b[49m\u001b[38;5;241;43m.\u001b[39;49m\u001b[43mrender\u001b[49m\u001b[43m(\u001b[49m\u001b[38;5;28;43mself\u001b[39;49m\u001b[43m,\u001b[49m\u001b[43m \u001b[49m\u001b[43mdepsgraph\u001b[49m\u001b[43m)\u001b[49m\n",
      "File \u001b[0;32m/usr/local/lib/python3.9/dist-packages/2.93/scripts/addons/cycles/engine.py:177\u001b[0m, in \u001b[0;36mrender\u001b[0;34m(engine, depsgraph)\u001b[0m\n\u001b[1;32m    175\u001b[0m \u001b[38;5;28;01mimport\u001b[39;00m \u001b[38;5;21;01m_cycles\u001b[39;00m\n\u001b[1;32m    176\u001b[0m \u001b[38;5;28;01mif\u001b[39;00m \u001b[38;5;28mhasattr\u001b[39m(engine, \u001b[38;5;124m\"\u001b[39m\u001b[38;5;124msession\u001b[39m\u001b[38;5;124m\"\u001b[39m):\n\u001b[0;32m--> 177\u001b[0m     \u001b[43m_cycles\u001b[49m\u001b[38;5;241;43m.\u001b[39;49m\u001b[43mrender\u001b[49m\u001b[43m(\u001b[49m\u001b[43mengine\u001b[49m\u001b[38;5;241;43m.\u001b[39;49m\u001b[43msession\u001b[49m\u001b[43m,\u001b[49m\u001b[43m \u001b[49m\u001b[43mdepsgraph\u001b[49m\u001b[38;5;241;43m.\u001b[39;49m\u001b[43mas_pointer\u001b[49m\u001b[43m(\u001b[49m\u001b[43m)\u001b[49m\u001b[43m)\u001b[49m\n",
      "\u001b[0;31mKeyboardInterrupt\u001b[0m: "
     ]
    },
    {
     "name": "stderr",
     "output_type": "stream",
     "text": [
      "Python: \n",
      "location: /usr/local/lib/python3.9/dist-packages/2.93/scripts/modules/bpy/ops.py:132\n",
      "Rendering...: 100%|██████████████████████████████████████████████████████████████████████████████████████████████| 100/100 [10:38<00:00,  6.39s/it]"
     ]
    },
    {
     "name": "stdout",
     "output_type": "stream",
     "text": [
      "Rendering batch 700 to 800\n"
     ]
    },
    {
     "name": "stderr",
     "output_type": "stream",
     "text": [
      "\n",
      "Rendering...: 100%|██████████████████████████████████████████████████████████████████████████████████████████████| 100/100 [07:03<00:00,  4.23s/it]"
     ]
    },
    {
     "name": "stdout",
     "output_type": "stream",
     "text": [
      "Rendering batch 800 to 900\n"
     ]
    },
    {
     "name": "stderr",
     "output_type": "stream",
     "text": [
      "\n",
      "Rendering...: 100%|██████████████████████████████████████████████████████████████████████████████████████████████| 100/100 [07:07<00:00,  4.28s/it]"
     ]
    },
    {
     "name": "stdout",
     "output_type": "stream",
     "text": [
      "Rendering batch 900 to 1000\n"
     ]
    },
    {
     "name": "stderr",
     "output_type": "stream",
     "text": [
      "\n",
      "Rendering...: 100%|██████████████████████████████████████████████████████████████████████████████████████████████| 100/100 [06:53<00:00,  4.14s/it]"
     ]
    },
    {
     "name": "stdout",
     "output_type": "stream",
     "text": [
      "Rendering batch 1000 to 1100\n"
     ]
    },
    {
     "name": "stderr",
     "output_type": "stream",
     "text": [
      "\n",
      "Rendering...: 100%|██████████████████████████████████████████████████████████████████████████████████████████████| 100/100 [07:00<00:00,  4.21s/it]"
     ]
    },
    {
     "name": "stdout",
     "output_type": "stream",
     "text": [
      "Rendering batch 1100 to 1200\n"
     ]
    },
    {
     "name": "stderr",
     "output_type": "stream",
     "text": [
      "\n",
      "Rendering...: 100%|██████████████████████████████████████████████████████████████████████████████████████████████| 100/100 [07:00<00:00,  4.20s/it]"
     ]
    },
    {
     "name": "stdout",
     "output_type": "stream",
     "text": [
      "Rendering batch 1200 to 1300\n"
     ]
    },
    {
     "name": "stderr",
     "output_type": "stream",
     "text": [
      "\n",
      "Rendering...: 100%|██████████████████████████████████████████████████████████████████████████████████████████████| 100/100 [07:01<00:00,  4.21s/it]"
     ]
    },
    {
     "name": "stdout",
     "output_type": "stream",
     "text": [
      "Rendering batch 1300 to 1400\n"
     ]
    },
    {
     "name": "stderr",
     "output_type": "stream",
     "text": [
      "\n",
      "Rendering...: 100%|██████████████████████████████████████████████████████████████████████████████████████████████| 100/100 [07:01<00:00,  4.22s/it]"
     ]
    },
    {
     "name": "stdout",
     "output_type": "stream",
     "text": [
      "Rendering batch 1400 to 1500\n"
     ]
    },
    {
     "name": "stderr",
     "output_type": "stream",
     "text": [
      "\n",
      "Rendering...: 100%|██████████████████████████████████████████████████████████████████████████████████████████████| 100/100 [07:15<00:00,  4.36s/it]"
     ]
    },
    {
     "name": "stdout",
     "output_type": "stream",
     "text": [
      "Rendering batch 1500 to 1600\n"
     ]
    },
    {
     "name": "stderr",
     "output_type": "stream",
     "text": [
      "\n",
      "Rendering...: 100%|██████████████████████████████████████████████████████████████████████████████████████████████| 100/100 [07:04<00:00,  4.25s/it]"
     ]
    },
    {
     "name": "stdout",
     "output_type": "stream",
     "text": [
      "Rendering batch 1600 to 1700\n"
     ]
    },
    {
     "name": "stderr",
     "output_type": "stream",
     "text": [
      "\n",
      "Rendering...: 100%|██████████████████████████████████████████████████████████████████████████████████████████████| 100/100 [07:04<00:00,  4.24s/it]"
     ]
    },
    {
     "name": "stdout",
     "output_type": "stream",
     "text": [
      "Rendering batch 1700 to 1800\n"
     ]
    },
    {
     "name": "stderr",
     "output_type": "stream",
     "text": [
      "\n",
      "Rendering...: 100%|██████████████████████████████████████████████████████████████████████████████████████████████| 100/100 [07:01<00:00,  4.22s/it]"
     ]
    },
    {
     "name": "stdout",
     "output_type": "stream",
     "text": [
      "Rendering batch 1800 to 1900\n"
     ]
    },
    {
     "name": "stderr",
     "output_type": "stream",
     "text": [
      "\n",
      "Rendering...: 100%|██████████████████████████████████████████████████████████████████████████████████████████████| 100/100 [07:00<00:00,  4.21s/it]"
     ]
    },
    {
     "name": "stdout",
     "output_type": "stream",
     "text": [
      "Rendering batch 1900 to 2000\n"
     ]
    },
    {
     "name": "stderr",
     "output_type": "stream",
     "text": [
      "\n",
      "Rendering...: 100%|██████████████████████████████████████████████████████████████████████████████████████████████| 100/100 [07:06<00:00,  4.26s/it]"
     ]
    },
    {
     "name": "stdout",
     "output_type": "stream",
     "text": [
      "Rendering batch 2000 to 2100\n"
     ]
    },
    {
     "name": "stderr",
     "output_type": "stream",
     "text": [
      "\n",
      "Rendering...: 100%|██████████████████████████████████████████████████████████████████████████████████████████████| 100/100 [07:36<00:00,  4.57s/it]"
     ]
    },
    {
     "name": "stdout",
     "output_type": "stream",
     "text": [
      "Rendering batch 2100 to 2200\n"
     ]
    },
    {
     "name": "stderr",
     "output_type": "stream",
     "text": [
      "\n",
      "Rendering...: 100%|██████████████████████████████████████████████████████████████████████████████████████████████| 100/100 [07:08<00:00,  4.29s/it]"
     ]
    },
    {
     "name": "stdout",
     "output_type": "stream",
     "text": [
      "Rendering batch 2200 to 2300\n"
     ]
    },
    {
     "name": "stderr",
     "output_type": "stream",
     "text": [
      "\n",
      "Rendering...: 100%|██████████████████████████████████████████████████████████████████████████████████████████████| 100/100 [07:05<00:00,  4.26s/it]"
     ]
    },
    {
     "name": "stdout",
     "output_type": "stream",
     "text": [
      "Rendering batch 2300 to 2400\n"
     ]
    },
    {
     "name": "stderr",
     "output_type": "stream",
     "text": [
      "\n",
      "Rendering...: 100%|██████████████████████████████████████████████████████████████████████████████████████████████| 100/100 [07:05<00:00,  4.26s/it]"
     ]
    },
    {
     "name": "stdout",
     "output_type": "stream",
     "text": [
      "Rendering batch 2400 to 2500\n"
     ]
    },
    {
     "name": "stderr",
     "output_type": "stream",
     "text": [
      "\n",
      "Rendering...: 100%|██████████████████████████████████████████████████████████████████████████████████████████████| 100/100 [07:10<00:00,  4.31s/it]"
     ]
    },
    {
     "name": "stdout",
     "output_type": "stream",
     "text": [
      "Rendering batch 2500 to 2600\n"
     ]
    },
    {
     "name": "stderr",
     "output_type": "stream",
     "text": [
      "\n",
      "Rendering...: 100%|██████████████████████████████████████████████████████████████████████████████████████████████| 100/100 [07:08<00:00,  4.29s/it]"
     ]
    },
    {
     "name": "stdout",
     "output_type": "stream",
     "text": [
      "Rendering batch 2600 to 2700\n"
     ]
    },
    {
     "name": "stderr",
     "output_type": "stream",
     "text": [
      "\n",
      "Rendering...: 100%|██████████████████████████████████████████████████████████████████████████████████████████████| 100/100 [07:09<00:00,  4.30s/it]"
     ]
    },
    {
     "name": "stdout",
     "output_type": "stream",
     "text": [
      "Rendering batch 2700 to 2800\n"
     ]
    },
    {
     "name": "stderr",
     "output_type": "stream",
     "text": [
      "\n",
      "Rendering...: 100%|██████████████████████████████████████████████████████████████████████████████████████████████| 100/100 [07:15<00:00,  4.35s/it]"
     ]
    },
    {
     "name": "stdout",
     "output_type": "stream",
     "text": [
      "Rendering batch 2800 to 2900\n"
     ]
    },
    {
     "name": "stderr",
     "output_type": "stream",
     "text": [
      "\n",
      "Rendering...: 100%|██████████████████████████████████████████████████████████████████████████████████████████████| 100/100 [07:10<00:00,  4.31s/it]"
     ]
    },
    {
     "name": "stdout",
     "output_type": "stream",
     "text": [
      "Rendering batch 2900 to 3000\n"
     ]
    },
    {
     "name": "stderr",
     "output_type": "stream",
     "text": [
      "\n",
      "Rendering...: 100%|██████████████████████████████████████████████████████████████████████████████████████████████| 100/100 [07:13<00:00,  4.33s/it]"
     ]
    },
    {
     "name": "stdout",
     "output_type": "stream",
     "text": [
      "Rendering batch 3000 to 3100\n"
     ]
    },
    {
     "name": "stderr",
     "output_type": "stream",
     "text": [
      "\n",
      "Rendering...: 100%|██████████████████████████████████████████████████████████████████████████████████████████████| 100/100 [07:11<00:00,  4.31s/it]"
     ]
    },
    {
     "name": "stdout",
     "output_type": "stream",
     "text": [
      "Rendering batch 3100 to 3200\n"
     ]
    },
    {
     "name": "stderr",
     "output_type": "stream",
     "text": [
      "\n",
      "Rendering...: 100%|██████████████████████████████████████████████████████████████████████████████████████████████| 100/100 [07:10<00:00,  4.30s/it]"
     ]
    },
    {
     "name": "stdout",
     "output_type": "stream",
     "text": [
      "Rendering batch 3200 to 3300\n"
     ]
    },
    {
     "name": "stderr",
     "output_type": "stream",
     "text": [
      "\n",
      "Rendering...: 100%|██████████████████████████████████████████████████████████████████████████████████████████████| 100/100 [07:03<00:00,  4.24s/it]"
     ]
    },
    {
     "name": "stdout",
     "output_type": "stream",
     "text": [
      "Rendering batch 3300 to 3400\n"
     ]
    },
    {
     "name": "stderr",
     "output_type": "stream",
     "text": [
      "\n",
      "Rendering...: 100%|██████████████████████████████████████████████████████████████████████████████████████████████| 100/100 [07:06<00:00,  4.27s/it]"
     ]
    },
    {
     "name": "stdout",
     "output_type": "stream",
     "text": [
      "Rendering batch 3400 to 3486\n"
     ]
    },
    {
     "name": "stderr",
     "output_type": "stream",
     "text": [
      "\n",
      "Rendering...: 100%|████████████████████████████████████████████████████████████████████████████████████████████████| 86/86 [06:05<00:00,  4.25s/it]\n"
     ]
    }
   ],
   "source": [
    "resolution = (512, 512)\n",
    "batch_size = 100\n",
    "batch_indices = list(range(100, len(cars), batch_size))\n",
    "for start in batch_indices:\n",
    "    print(f'Rendering batch {start} to {min(start+batch_size, len(cars))}')\n",
    "    render_batch_random_angles(resolution, cars[start:start+batch_size])"
   ]
  },
  {
   "cell_type": "code",
   "execution_count": null,
   "id": "8ab0518f-9818-48c6-a1b8-1bf9446879c8",
   "metadata": {},
   "outputs": [],
   "source": [
    "camera_angles = [30, 60, 150]\n",
    "resolution = (256, 256)"
   ]
  },
  {
   "cell_type": "code",
   "execution_count": null,
   "id": "d9e86a34-44b8-4c06-858e-1fc57726ad9e",
   "metadata": {},
   "outputs": [],
   "source": [
    "batch_size = 100\n",
    "batch_indices = list(range(3400, len(cars), batch_size))\n",
    "for start in batch_indices:\n",
    "    print(f'Rendering batch {start} to {min(start+batch_size, len(cars))}')\n",
    "    render_batch(camera_angles, resolution, cars[start:start+batch_size])"
   ]
  },
  {
   "cell_type": "code",
   "execution_count": null,
   "id": "e5d3e49c-d20a-481e-bb3e-35c14b3ea965",
   "metadata": {},
   "outputs": [],
   "source": [
    "render_batch([40], (1024, 1024), [cars[4]])"
   ]
  },
  {
   "cell_type": "code",
   "execution_count": null,
   "id": "d2370afa-308b-4614-b8b1-8907b90b23be",
   "metadata": {},
   "outputs": [],
   "source": []
  }
 ],
 "metadata": {
  "kernelspec": {
   "display_name": "Python 3 (ipykernel)",
   "language": "python",
   "name": "python3"
  },
  "language_info": {
   "codemirror_mode": {
    "name": "ipython",
    "version": 3
   },
   "file_extension": ".py",
   "mimetype": "text/x-python",
   "name": "python",
   "nbconvert_exporter": "python",
   "pygments_lexer": "ipython3",
   "version": "3.9.5"
  }
 },
 "nbformat": 4,
 "nbformat_minor": 5
}
