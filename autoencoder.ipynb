{
 "cells": [
  {
   "cell_type": "code",
   "execution_count": 1,
   "id": "5bba55c5",
   "metadata": {},
   "outputs": [],
   "source": [
    "import os\n",
    "import logging\n",
    "import numpy as np\n",
    "\n",
    "from scipy.spatial.transform import Rotation as R\n",
    "from torchvision.transforms import ToTensor\n",
    "from torchvision import transforms\n",
    "import torch\n",
    "import torch.nn as nn\n",
    "import torch.nn.functional as F\n",
    "from sklearn.model_selection import train_test_split\n",
    "\n",
    "from PIL import Image\n",
    "from pathlib import Path\n",
    "from tqdm import tqdm\n",
    "import json\n",
    "\n",
    "import sys\n",
    "import os"
   ]
  },
  {
   "cell_type": "code",
   "execution_count": 2,
   "id": "b711e7bc",
   "metadata": {},
   "outputs": [],
   "source": [
    "use_cuda = torch.cuda.is_available()\n",
    "device = torch.device(\"cuda:0\" if use_cuda else \"cpu\")"
   ]
  },
  {
   "cell_type": "code",
   "execution_count": 3,
   "id": "f9305ce1",
   "metadata": {},
   "outputs": [],
   "source": [
    "asset_dir = Path(\"./\")\n",
    "manifest_path = Path('ShapeNetCore.v2.json')\n",
    "with open(manifest_path, 'rb') as manifest_file:\n",
    "    assets = json.loads(manifest_file.read())['assets']\n",
    "assets = {k: v for k, v in assets.items() if v['metadata']['category'] == 'car'}\n",
    "asset_ids = list(assets.keys())"
   ]
  },
  {
   "cell_type": "code",
   "execution_count": 4,
   "id": "1f9c4f24",
   "metadata": {},
   "outputs": [],
   "source": [
    "from dataclasses import dataclass\n",
    "\n",
    "@dataclass\n",
    "class TrainingConfig:\n",
    "    image_size = 128  # the generated image resolution\n",
    "    train_batch_size = 16\n",
    "    eval_batch_size = 16  # how many images to sample during evaluation\n",
    "    num_epochs = 80\n",
    "    gradient_accumulation_steps = 1\n",
    "    learning_rate = 1e-4\n",
    "    lr_warmup_steps = 500\n",
    "    save_image_epochs = 10\n",
    "    save_model_epochs = 30\n",
    "    mixed_precision = 'fp16'  # `no` for float32, `fp16` for automatic mixed precision\n",
    "    output_dir = 'ddim-cars-128'  # the model namy locally and on the HF Hub\n",
    "\n",
    "    push_to_hub = False  # whether to upload the saved model to the HF Hub\n",
    "    hub_private_repo = False  \n",
    "    overwrite_output_dir = True  # overwrite the old model when re-running the notebook\n",
    "    seed = 0\n",
    "\n",
    "config = TrainingConfig()"
   ]
  },
  {
   "cell_type": "code",
   "execution_count": 5,
   "id": "68b9cf0e",
   "metadata": {},
   "outputs": [],
   "source": [
    "from torch.utils.data import Dataset\n",
    "from torchvision.io import read_image\n",
    "\n",
    "class AssetDataset(Dataset):\n",
    "    def __init__(self, asset_ids, asset_dir, input_filename, target_filename, transform=None):\n",
    "        self.asset_dir = asset_dir\n",
    "        self.asset_ids = asset_ids\n",
    "        self.input_filename = input_filename\n",
    "        self.target_filename = target_filename\n",
    "        self.transform = transform\n",
    "\n",
    "    def __len__(self):\n",
    "        return len(self.asset_ids)\n",
    "\n",
    "    def __getitem__(self, idx):\n",
    "        asset_path = self.asset_dir / self.asset_ids[idx]\n",
    "        input_image = Image.open(asset_path / self.input_filename).convert('RGB')\n",
    "        target_image = Image.open(asset_path / self.target_filename).convert('RGB')\n",
    "        if self.transform is not None:\n",
    "            input_image = self.transform(input_image)\n",
    "            target_image = self.transform(target_image)\n",
    "        return input_image, target_image"
   ]
  },
  {
   "cell_type": "code",
   "execution_count": 6,
   "id": "8c81de23",
   "metadata": {},
   "outputs": [],
   "source": [
    "def get_preprocessor(image_size):\n",
    "    return transforms.Compose(\n",
    "        [\n",
    "            transforms.Resize((image_size, image_size)),\n",
    "            transforms.ToTensor(),\n",
    "            transforms.Normalize([0.5], [0.5]),\n",
    "        ]\n",
    "    )"
   ]
  },
  {
   "cell_type": "code",
   "execution_count": 7,
   "id": "14c6f841",
   "metadata": {},
   "outputs": [],
   "source": [
    "def get_filename(camera_angle, resolution):\n",
    "    return f'color_angle{camera_angle}_res256x256.png'"
   ]
  },
  {
   "cell_type": "code",
   "execution_count": 8,
   "id": "c2591155",
   "metadata": {},
   "outputs": [],
   "source": [
    "from torch.utils.data import DataLoader\n",
    "\n",
    "def makeDataLoader(seed=0, test_size=0.1, asset_ids=asset_ids, input_angle=30, target_angle=60, resolution=(256, 256), image_size=256, batch_size=16):\n",
    "    train_ids, valid_ids = train_test_split(asset_ids, test_size=test_size, random_state=seed)\n",
    "    input_filename = get_filename(input_angle, resolution)\n",
    "    target_filename = get_filename(target_angle, resolution)\n",
    "    preprocess = get_preprocessor(image_size)\n",
    "    train_dataset = AssetDataset(asset_ids=train_ids, asset_dir=asset_dir,\n",
    "                                 input_filename=input_filename,\n",
    "                                 target_filename=target_filename,\n",
    "                                 transform=preprocess)\n",
    "    valid_dataset = AssetDataset(asset_ids=valid_ids, asset_dir=asset_dir,\n",
    "                                 input_filename=input_filename,\n",
    "                                 target_filename=target_filename,\n",
    "                                 transform=preprocess)\n",
    "    \n",
    "    kwargs = {'num_workers': 1, 'pin_memory': True} if use_cuda else {}\n",
    "    train_loader = torch.utils.data.DataLoader(train_dataset, batch_size=batch_size, shuffle=True, **kwargs)\n",
    "    valid_loader = torch.utils.data.DataLoader(valid_dataset, batch_size=batch_size, shuffle=False, **kwargs)\n",
    "    \n",
    "    train_size = len(train_dataset)\n",
    "    valid_size = len(valid_dataset)\n",
    "    \n",
    "    return train_loader, valid_loader, train_size, valid_size"
   ]
  },
  {
   "cell_type": "code",
   "execution_count": 9,
   "id": "469a0c19",
   "metadata": {},
   "outputs": [],
   "source": [
    "nonlinearity = F.silu"
   ]
  },
  {
   "cell_type": "code",
   "execution_count": 10,
   "id": "14113f5b",
   "metadata": {},
   "outputs": [],
   "source": [
    "class DownBlock(nn.Module):\n",
    "    def __init__(self, input_channels, layer_channels, is_last=False):\n",
    "        super(DownBlock, self).__init__()\n",
    "        self.input_layer = nn.Conv2d(input_channels,\n",
    "                                     layer_channels[0],\n",
    "                                     3, padding=1)\n",
    "        self.layers = nn.ModuleList(nn.Conv2d(layer_channels[i], \n",
    "                                              layer_channels[i+1],\n",
    "                                              3, padding=1)\n",
    "                                    for i in range(len(layer_channels)-1))\n",
    "        self.pool = nn.MaxPool2d(2, 2)\n",
    "        self.is_last = is_last\n",
    "\n",
    "    def forward(self, xb):\n",
    "        output = nonlinearity(self.input_layer(xb))\n",
    "        for layer in self.layers:\n",
    "            output = nonlinearity(layer(output))\n",
    "        if not self.is_last:\n",
    "            output = self.pool(output)\n",
    "        return output"
   ]
  },
  {
   "cell_type": "code",
   "execution_count": 11,
   "id": "766306a4",
   "metadata": {},
   "outputs": [],
   "source": [
    "class UpBlock(nn.Module):\n",
    "    def __init__(self, output_channels, layer_channels, is_last=False):\n",
    "        super(UpBlock, self).__init__()\n",
    "        self.input_layer = nn.ConvTranspose2d(layer_channels[-1], layer_channels[-1], 2, stride=2)\n",
    "        self.layers = nn.ModuleList(nn.Conv2d(layer_channels[i],\n",
    "                                              layer_channels[i-1],\n",
    "                                              3, padding=1)\n",
    "                                    for i in range(len(layer_channels)-1, 0, -1))\n",
    "        self.output_layer = nn.Conv2d(layer_channels[0], output_channels, 3, padding=1)\n",
    "        self.is_last = is_last\n",
    "\n",
    "    def forward(self, xb):\n",
    "        output = nonlinearity(self.input_layer(xb))\n",
    "        for layer in self.layers:\n",
    "            output = nonlinearity(layer(output))\n",
    "        output = self.output_layer(output)\n",
    "        if not self.is_last:\n",
    "            output = nonlinearity(output)\n",
    "        return output"
   ]
  },
  {
   "cell_type": "code",
   "execution_count": 12,
   "id": "07a3e53a",
   "metadata": {},
   "outputs": [],
   "source": [
    "class Encoder(nn.Module):\n",
    "    def __init__(self, layer_channels):\n",
    "        super(Encoder, self).__init__()\n",
    "        self.layers = nn.ModuleList(DownBlock(layer_channels[i][-1],\n",
    "                                              layer_channels[i+1])\n",
    "                                    for i in range(len(layer_channels)-1))\n",
    "\n",
    "    def forward(self, xb):\n",
    "        output = xb\n",
    "        for layer in self.layers:\n",
    "            output = layer(output)\n",
    "        return output"
   ]
  },
  {
   "cell_type": "code",
   "execution_count": 13,
   "id": "bae76e66",
   "metadata": {},
   "outputs": [],
   "source": [
    "class MiddleBlock(nn.Module):\n",
    "    def __init__(self, channels, image_size, bottleneck_channels):\n",
    "        super(MiddleBlock, self).__init__()\n",
    "        self.channels = channels\n",
    "        self.image_size = image_size\n",
    "        dim = channels * image_size * image_size\n",
    "        self.input_layer = nn.Linear(dim, bottleneck_channels[0])\n",
    "        self.layers = nn.ModuleList(nn.Linear(bottleneck_channels[i], \n",
    "                                              bottleneck_channels[i+1])\n",
    "                                    for i in range(len(bottleneck_channels)-1))\n",
    "        self.output_layer = nn.Linear(bottleneck_channels[-1], dim)\n",
    "\n",
    "    def forward(self, xb):\n",
    "        output = torch.flatten(xb, 1)\n",
    "        output = nonlinearity(self.input_layer(output))\n",
    "        for layer in self.layers:\n",
    "            output = nonlinearity(layer(output))\n",
    "        output = nonlinearity(self.output_layer(output))\n",
    "        output = output.view(-1, self.channels, self.image_size, self.image_size)\n",
    "        return output"
   ]
  },
  {
   "cell_type": "code",
   "execution_count": 14,
   "id": "b18a32bd",
   "metadata": {},
   "outputs": [],
   "source": [
    "class Decoder(nn.Module):\n",
    "    def __init__(self, layer_channels):\n",
    "        super(Decoder, self).__init__()\n",
    "        self.layers = nn.ModuleList(UpBlock(layer_channels[i-1][-1] if i > 1 else layer_channels[1][0],\n",
    "                                            layer_channels[i]) \n",
    "                                    for i in range(len(layer_channels)-1, 0, -1))\n",
    "        self.output_layer = nn.Conv2d(layer_channels[1][0], layer_channels[0][-1], 1)\n",
    "\n",
    "    def forward(self, xb):\n",
    "        output = xb\n",
    "        for layer in self.layers:\n",
    "            output = layer(output)\n",
    "        output = torch.tanh(self.output_layer(output))\n",
    "        return output"
   ]
  },
  {
   "cell_type": "code",
   "execution_count": 15,
   "id": "4a221afb",
   "metadata": {},
   "outputs": [],
   "source": [
    "class AutoEncoder(nn.Module):\n",
    "    def __init__(self, layer_channels, bottleneck_channels, image_size):\n",
    "        super(AutoEncoder, self).__init__()\n",
    "        self.layer_channels = layer_channels\n",
    "        self.encoder = Encoder(self.layer_channels)\n",
    "        middle_channels = layer_channels[-1][-1]\n",
    "        middle_size = image_size >> (len(layer_channels)-1)\n",
    "        self.middle = MiddleBlock(middle_channels, middle_size, bottleneck_channels)\n",
    "        self.decoder = Decoder(self.layer_channels)\n",
    "\n",
    "    def forward(self, xb):\n",
    "        output = xb\n",
    "        output = self.encoder(output)\n",
    "        output = self.middle(output)\n",
    "        output = self.decoder(output)\n",
    "        return output"
   ]
  },
  {
   "cell_type": "code",
   "execution_count": 16,
   "id": "a1304c1f",
   "metadata": {},
   "outputs": [],
   "source": [
    "def loss_batch(model, loss_func, xb, yb, opt=None):\n",
    "    xb, yb = xb.to(device), yb.to(device)\n",
    "    \n",
    "    loss = loss_func(model(xb), yb)    \n",
    "\n",
    "    if opt is not None:\n",
    "        opt.zero_grad()\n",
    "        loss.backward()\n",
    "        opt.step()\n",
    "\n",
    "    return loss.item(), len(xb)"
   ]
  },
  {
   "cell_type": "code",
   "execution_count": 17,
   "id": "04e5c66c",
   "metadata": {},
   "outputs": [],
   "source": [
    "def fit(epochs, model, loss_func, opt, train_dl, valid_dl):\n",
    "    model.to(device)\n",
    "    for epoch in range(epochs):\n",
    "        model.train()\n",
    "        for xb, yb in tqdm(train_dl, desc=f'Epoch {epoch+1}/{epochs}'):\n",
    "            loss_batch(model, loss_func, xb, yb, opt)\n",
    "        \n",
    "        model.eval()\n",
    "        with torch.no_grad():\n",
    "            losses, nums = zip(*[loss_batch(model, loss_func, xb, yb) for xb, yb in valid_dl])\n",
    "        \n",
    "        print(epoch, sum(losses))"
   ]
  },
  {
   "cell_type": "code",
   "execution_count": 18,
   "id": "99789e2f",
   "metadata": {},
   "outputs": [],
   "source": [
    "def train_model(model, train_loader, valid_loader, seed=0, epochs=30, input_angle=30, target_angle=60):\n",
    "    loss_func = nn.MSELoss()\n",
    "    optimizer = torch.optim.Adam(model.parameters(), lr=0.001, betas=(0.9, 0.999), eps=1e-08, weight_decay=1e-8)\n",
    "    #optimizer = torch.optim.SGD(model.parameters(), lr=0.001)\n",
    "    fit(epochs, model, loss_func, optimizer, train_loader, valid_loader)"
   ]
  },
  {
   "cell_type": "code",
   "execution_count": 19,
   "id": "b88707f1",
   "metadata": {},
   "outputs": [],
   "source": [
    "def show_image(x):\n",
    "    transformer = transforms.ToPILImage()\n",
    "    img = transformer((x + 1) / 2)\n",
    "    img.show()"
   ]
  },
  {
   "cell_type": "code",
   "execution_count": 20,
   "id": "9a8c2f4a",
   "metadata": {},
   "outputs": [],
   "source": [
    "image_size = 128\n",
    "train_loader, valid_loader, train_size, val_size = makeDataLoader(seed=0, asset_ids=asset_ids, input_angle=30, target_angle=60, batch_size=16, image_size=image_size)\n",
    "model = AutoEncoder(layer_channels=[[3], [48], [96], [192, 64]], image_size=image_size, bottleneck_channels=[4000]).to(device)"
   ]
  },
  {
   "cell_type": "code",
   "execution_count": 21,
   "id": "67e666c9",
   "metadata": {},
   "outputs": [
    {
     "data": {
      "text/plain": [
       "AutoEncoder(\n",
       "  (encoder): Encoder(\n",
       "    (layers): ModuleList(\n",
       "      (0): DownBlock(\n",
       "        (input_layer): Conv2d(3, 48, kernel_size=(3, 3), stride=(1, 1), padding=(1, 1))\n",
       "        (layers): ModuleList()\n",
       "        (pool): MaxPool2d(kernel_size=2, stride=2, padding=0, dilation=1, ceil_mode=False)\n",
       "      )\n",
       "      (1): DownBlock(\n",
       "        (input_layer): Conv2d(48, 96, kernel_size=(3, 3), stride=(1, 1), padding=(1, 1))\n",
       "        (layers): ModuleList()\n",
       "        (pool): MaxPool2d(kernel_size=2, stride=2, padding=0, dilation=1, ceil_mode=False)\n",
       "      )\n",
       "      (2): DownBlock(\n",
       "        (input_layer): Conv2d(96, 192, kernel_size=(3, 3), stride=(1, 1), padding=(1, 1))\n",
       "        (layers): ModuleList(\n",
       "          (0): Conv2d(192, 64, kernel_size=(3, 3), stride=(1, 1), padding=(1, 1))\n",
       "        )\n",
       "        (pool): MaxPool2d(kernel_size=2, stride=2, padding=0, dilation=1, ceil_mode=False)\n",
       "      )\n",
       "    )\n",
       "  )\n",
       "  (middle): MiddleBlock(\n",
       "    (input_layer): Linear(in_features=16384, out_features=4000, bias=True)\n",
       "    (layers): ModuleList()\n",
       "    (output_layer): Linear(in_features=4000, out_features=16384, bias=True)\n",
       "  )\n",
       "  (decoder): Decoder(\n",
       "    (layers): ModuleList(\n",
       "      (0): UpBlock(\n",
       "        (input_layer): ConvTranspose2d(64, 64, kernel_size=(2, 2), stride=(2, 2))\n",
       "        (layers): ModuleList(\n",
       "          (0): Conv2d(64, 192, kernel_size=(3, 3), stride=(1, 1), padding=(1, 1))\n",
       "        )\n",
       "        (output_layer): Conv2d(192, 96, kernel_size=(3, 3), stride=(1, 1), padding=(1, 1))\n",
       "      )\n",
       "      (1): UpBlock(\n",
       "        (input_layer): ConvTranspose2d(96, 96, kernel_size=(2, 2), stride=(2, 2))\n",
       "        (layers): ModuleList()\n",
       "        (output_layer): Conv2d(96, 48, kernel_size=(3, 3), stride=(1, 1), padding=(1, 1))\n",
       "      )\n",
       "      (2): UpBlock(\n",
       "        (input_layer): ConvTranspose2d(48, 48, kernel_size=(2, 2), stride=(2, 2))\n",
       "        (layers): ModuleList()\n",
       "        (output_layer): Conv2d(48, 48, kernel_size=(3, 3), stride=(1, 1), padding=(1, 1))\n",
       "      )\n",
       "    )\n",
       "    (output_layer): Conv2d(48, 3, kernel_size=(1, 1), stride=(1, 1))\n",
       "  )\n",
       ")"
      ]
     },
     "execution_count": 21,
     "metadata": {},
     "output_type": "execute_result"
    }
   ],
   "source": [
    "model"
   ]
  },
  {
   "cell_type": "code",
   "execution_count": 22,
   "id": "a38ad3e3",
   "metadata": {},
   "outputs": [
    {
     "name": "stderr",
     "output_type": "stream",
     "text": [
      "Epoch 1/30: 100%|████████████████████████████████████████████████████████████████████████████████████████████████| 197/197 [00:30<00:00,  6.51it/s]\n"
     ]
    },
    {
     "name": "stdout",
     "output_type": "stream",
     "text": [
      "0 0.3759013516828418\n"
     ]
    },
    {
     "name": "stderr",
     "output_type": "stream",
     "text": [
      "Epoch 2/30: 100%|████████████████████████████████████████████████████████████████████████████████████████████████| 197/197 [00:29<00:00,  6.78it/s]\n"
     ]
    },
    {
     "name": "stdout",
     "output_type": "stream",
     "text": [
      "1 0.260602037422359\n"
     ]
    },
    {
     "name": "stderr",
     "output_type": "stream",
     "text": [
      "Epoch 3/30: 100%|████████████████████████████████████████████████████████████████████████████████████████████████| 197/197 [00:30<00:00,  6.45it/s]\n"
     ]
    },
    {
     "name": "stdout",
     "output_type": "stream",
     "text": [
      "2 0.23782379273325205\n"
     ]
    },
    {
     "name": "stderr",
     "output_type": "stream",
     "text": [
      "Epoch 4/30: 100%|████████████████████████████████████████████████████████████████████████████████████████████████| 197/197 [00:30<00:00,  6.54it/s]\n"
     ]
    },
    {
     "name": "stdout",
     "output_type": "stream",
     "text": [
      "3 0.21401064936071634\n"
     ]
    },
    {
     "name": "stderr",
     "output_type": "stream",
     "text": [
      "Epoch 5/30: 100%|████████████████████████████████████████████████████████████████████████████████████████████████| 197/197 [00:30<00:00,  6.51it/s]\n"
     ]
    },
    {
     "name": "stdout",
     "output_type": "stream",
     "text": [
      "4 0.19842488085851073\n"
     ]
    },
    {
     "name": "stderr",
     "output_type": "stream",
     "text": [
      "Epoch 6/30: 100%|████████████████████████████████████████████████████████████████████████████████████████████████| 197/197 [00:29<00:00,  6.60it/s]\n"
     ]
    },
    {
     "name": "stdout",
     "output_type": "stream",
     "text": [
      "5 0.19317853543907404\n"
     ]
    },
    {
     "name": "stderr",
     "output_type": "stream",
     "text": [
      "Epoch 7/30: 100%|████████████████████████████████████████████████████████████████████████████████████████████████| 197/197 [00:29<00:00,  6.65it/s]\n"
     ]
    },
    {
     "name": "stdout",
     "output_type": "stream",
     "text": [
      "6 0.17736224690452218\n"
     ]
    },
    {
     "name": "stderr",
     "output_type": "stream",
     "text": [
      "Epoch 8/30: 100%|████████████████████████████████████████████████████████████████████████████████████████████████| 197/197 [00:29<00:00,  6.63it/s]\n"
     ]
    },
    {
     "name": "stdout",
     "output_type": "stream",
     "text": [
      "7 0.17245516553521156\n"
     ]
    },
    {
     "name": "stderr",
     "output_type": "stream",
     "text": [
      "Epoch 9/30: 100%|████████████████████████████████████████████████████████████████████████████████████████████████| 197/197 [00:29<00:00,  6.62it/s]\n"
     ]
    },
    {
     "name": "stdout",
     "output_type": "stream",
     "text": [
      "8 0.1693015918135643\n"
     ]
    },
    {
     "name": "stderr",
     "output_type": "stream",
     "text": [
      "Epoch 10/30: 100%|███████████████████████████████████████████████████████████████████████████████████████████████| 197/197 [00:29<00:00,  6.68it/s]\n"
     ]
    },
    {
     "name": "stdout",
     "output_type": "stream",
     "text": [
      "9 0.17223132029175758\n"
     ]
    },
    {
     "name": "stderr",
     "output_type": "stream",
     "text": [
      "Epoch 11/30: 100%|███████████████████████████████████████████████████████████████████████████████████████████████| 197/197 [00:29<00:00,  6.79it/s]\n"
     ]
    },
    {
     "name": "stdout",
     "output_type": "stream",
     "text": [
      "10 0.16203565802425146\n"
     ]
    },
    {
     "name": "stderr",
     "output_type": "stream",
     "text": [
      "Epoch 12/30: 100%|███████████████████████████████████████████████████████████████████████████████████████████████| 197/197 [00:29<00:00,  6.63it/s]\n"
     ]
    },
    {
     "name": "stdout",
     "output_type": "stream",
     "text": [
      "11 0.1572743938304484\n"
     ]
    },
    {
     "name": "stderr",
     "output_type": "stream",
     "text": [
      "Epoch 13/30: 100%|███████████████████████████████████████████████████████████████████████████████████████████████| 197/197 [00:29<00:00,  6.79it/s]\n"
     ]
    },
    {
     "name": "stdout",
     "output_type": "stream",
     "text": [
      "12 0.15841020178049803\n"
     ]
    },
    {
     "name": "stderr",
     "output_type": "stream",
     "text": [
      "Epoch 14/30: 100%|███████████████████████████████████████████████████████████████████████████████████████████████| 197/197 [00:29<00:00,  6.65it/s]\n"
     ]
    },
    {
     "name": "stdout",
     "output_type": "stream",
     "text": [
      "13 0.14823704212903976\n"
     ]
    },
    {
     "name": "stderr",
     "output_type": "stream",
     "text": [
      "Epoch 15/30: 100%|███████████████████████████████████████████████████████████████████████████████████████████████| 197/197 [00:29<00:00,  6.61it/s]\n"
     ]
    },
    {
     "name": "stdout",
     "output_type": "stream",
     "text": [
      "14 0.15002025617286563\n"
     ]
    },
    {
     "name": "stderr",
     "output_type": "stream",
     "text": [
      "Epoch 16/30: 100%|███████████████████████████████████████████████████████████████████████████████████████████████| 197/197 [00:30<00:00,  6.47it/s]\n"
     ]
    },
    {
     "name": "stdout",
     "output_type": "stream",
     "text": [
      "15 0.14446482993662357\n"
     ]
    },
    {
     "name": "stderr",
     "output_type": "stream",
     "text": [
      "Epoch 17/30: 100%|███████████████████████████████████████████████████████████████████████████████████████████████| 197/197 [00:30<00:00,  6.53it/s]\n"
     ]
    },
    {
     "name": "stdout",
     "output_type": "stream",
     "text": [
      "16 0.14394515892490745\n"
     ]
    },
    {
     "name": "stderr",
     "output_type": "stream",
     "text": [
      "Epoch 18/30: 100%|███████████████████████████████████████████████████████████████████████████████████████████████| 197/197 [00:29<00:00,  6.62it/s]\n"
     ]
    },
    {
     "name": "stdout",
     "output_type": "stream",
     "text": [
      "17 0.1425174199976027\n"
     ]
    },
    {
     "name": "stderr",
     "output_type": "stream",
     "text": [
      "Epoch 19/30: 100%|███████████████████████████████████████████████████████████████████████████████████████████████| 197/197 [00:30<00:00,  6.49it/s]\n"
     ]
    },
    {
     "name": "stdout",
     "output_type": "stream",
     "text": [
      "18 0.14817444421350956\n"
     ]
    },
    {
     "name": "stderr",
     "output_type": "stream",
     "text": [
      "Epoch 20/30: 100%|███████████████████████████████████████████████████████████████████████████████████████████████| 197/197 [00:29<00:00,  6.64it/s]\n"
     ]
    },
    {
     "name": "stdout",
     "output_type": "stream",
     "text": [
      "19 0.14608558546751738\n"
     ]
    },
    {
     "name": "stderr",
     "output_type": "stream",
     "text": [
      "Epoch 21/30: 100%|███████████████████████████████████████████████████████████████████████████████████████████████| 197/197 [00:30<00:00,  6.54it/s]\n"
     ]
    },
    {
     "name": "stdout",
     "output_type": "stream",
     "text": [
      "20 0.14011958707123995\n"
     ]
    },
    {
     "name": "stderr",
     "output_type": "stream",
     "text": [
      "Epoch 22/30: 100%|███████████████████████████████████████████████████████████████████████████████████████████████| 197/197 [00:28<00:00,  6.83it/s]\n"
     ]
    },
    {
     "name": "stdout",
     "output_type": "stream",
     "text": [
      "21 0.1442341385409236\n"
     ]
    },
    {
     "name": "stderr",
     "output_type": "stream",
     "text": [
      "Epoch 23/30: 100%|███████████████████████████████████████████████████████████████████████████████████████████████| 197/197 [00:30<00:00,  6.56it/s]\n"
     ]
    },
    {
     "name": "stdout",
     "output_type": "stream",
     "text": [
      "22 0.1493340958841145\n"
     ]
    },
    {
     "name": "stderr",
     "output_type": "stream",
     "text": [
      "Epoch 24/30: 100%|███████████████████████████████████████████████████████████████████████████████████████████████| 197/197 [00:29<00:00,  6.72it/s]\n"
     ]
    },
    {
     "name": "stdout",
     "output_type": "stream",
     "text": [
      "23 0.14156314125284553\n"
     ]
    },
    {
     "name": "stderr",
     "output_type": "stream",
     "text": [
      "Epoch 25/30: 100%|███████████████████████████████████████████████████████████████████████████████████████████████| 197/197 [00:29<00:00,  6.70it/s]\n"
     ]
    },
    {
     "name": "stdout",
     "output_type": "stream",
     "text": [
      "24 0.14262955728918314\n"
     ]
    },
    {
     "name": "stderr",
     "output_type": "stream",
     "text": [
      "Epoch 26/30: 100%|███████████████████████████████████████████████████████████████████████████████████████████████| 197/197 [00:29<00:00,  6.61it/s]\n"
     ]
    },
    {
     "name": "stdout",
     "output_type": "stream",
     "text": [
      "25 0.1464748363941908\n"
     ]
    },
    {
     "name": "stderr",
     "output_type": "stream",
     "text": [
      "Epoch 27/30: 100%|███████████████████████████████████████████████████████████████████████████████████████████████| 197/197 [00:30<00:00,  6.53it/s]\n"
     ]
    },
    {
     "name": "stdout",
     "output_type": "stream",
     "text": [
      "26 0.14319187076762319\n"
     ]
    },
    {
     "name": "stderr",
     "output_type": "stream",
     "text": [
      "Epoch 28/30: 100%|███████████████████████████████████████████████████████████████████████████████████████████████| 197/197 [00:31<00:00,  6.35it/s]\n"
     ]
    },
    {
     "name": "stdout",
     "output_type": "stream",
     "text": [
      "27 0.14572717528790236\n"
     ]
    },
    {
     "name": "stderr",
     "output_type": "stream",
     "text": [
      "Epoch 29/30: 100%|███████████████████████████████████████████████████████████████████████████████████████████████| 197/197 [00:30<00:00,  6.55it/s]\n"
     ]
    },
    {
     "name": "stdout",
     "output_type": "stream",
     "text": [
      "28 0.14074133150279522\n"
     ]
    },
    {
     "name": "stderr",
     "output_type": "stream",
     "text": [
      "Epoch 30/30: 100%|███████████████████████████████████████████████████████████████████████████████████████████████| 197/197 [00:30<00:00,  6.38it/s]\n"
     ]
    },
    {
     "name": "stdout",
     "output_type": "stream",
     "text": [
      "29 0.14968143729493022\n"
     ]
    }
   ],
   "source": [
    "train_model(model, train_loader, valid_loader, 0, 30)"
   ]
  },
  {
   "cell_type": "code",
   "execution_count": 33,
   "id": "91b77115",
   "metadata": {},
   "outputs": [
    {
     "data": {
      "image/png": "[encoded data removed]",
      "text/plain": [
       "<PIL.Image.Image image mode=RGB size=128x128 at 0x7FC5C9530F10>"
      ]
     },
     "metadata": {},
     "output_type": "display_data"
    },
    {
     "data": {
      "image/png": "[encoded data removed]",
      "text/plain": [
       "<PIL.Image.Image image mode=RGB size=128x128 at 0x7FC5C9530EE0>"
      ]
     },
     "metadata": {},
     "output_type": "display_data"
    },
    {
     "data": {
      "image/png": "[encoded data removed]",
      "text/plain": [
       "<PIL.Image.Image image mode=RGB size=128x128 at 0x7FC5C9530F10>"
      ]
     },
     "metadata": {},
     "output_type": "display_data"
    }
   ],
   "source": [
    "xb, yb = valid_loader.dataset[9]\n",
    "show_image(xb)\n",
    "show_image(yb)\n",
    "xb = xb.unsqueeze(0)\n",
    "show_image(model(xb.to(device)).squeeze(0))"
   ]
  },
  {
   "cell_type": "code",
   "execution_count": 34,
   "id": "2f7d6ea0",
   "metadata": {},
   "outputs": [],
   "source": [
    "train_loader_bis, valid_loader_bis, train_size_bis, val_size_bis = makeDataLoader(seed=0, asset_ids=asset_ids, input_angle=30, target_angle=150, batch_size=16, image_size=image_size)\n",
    "model_bis = AutoEncoder(layer_channels=[[3], [48], [96], [192, 64]], image_size=image_size, bottleneck_channels=[4000]).to(device)"
   ]
  },
  {
   "cell_type": "code",
   "execution_count": 35,
   "id": "3fe133fe",
   "metadata": {},
   "outputs": [
    {
     "name": "stderr",
     "output_type": "stream",
     "text": [
      "Epoch 1/20: 100%|████████████████████████████████████████████████████████████████████████████████████████████████| 197/197 [00:29<00:00,  6.59it/s]\n"
     ]
    },
    {
     "name": "stdout",
     "output_type": "stream",
     "text": [
      "0 0.33418306428939104\n"
     ]
    },
    {
     "name": "stderr",
     "output_type": "stream",
     "text": [
      "Epoch 2/20: 100%|████████████████████████████████████████████████████████████████████████████████████████████████| 197/197 [00:30<00:00,  6.47it/s]\n"
     ]
    },
    {
     "name": "stdout",
     "output_type": "stream",
     "text": [
      "1 0.3029326470568776\n"
     ]
    },
    {
     "name": "stderr",
     "output_type": "stream",
     "text": [
      "Epoch 3/20: 100%|████████████████████████████████████████████████████████████████████████████████████████████████| 197/197 [00:29<00:00,  6.63it/s]\n"
     ]
    },
    {
     "name": "stdout",
     "output_type": "stream",
     "text": [
      "2 0.2835531570017338\n"
     ]
    },
    {
     "name": "stderr",
     "output_type": "stream",
     "text": [
      "Epoch 4/20: 100%|████████████████████████████████████████████████████████████████████████████████████████████████| 197/197 [00:30<00:00,  6.51it/s]\n"
     ]
    },
    {
     "name": "stdout",
     "output_type": "stream",
     "text": [
      "3 0.2773073064163327\n"
     ]
    },
    {
     "name": "stderr",
     "output_type": "stream",
     "text": [
      "Epoch 5/20: 100%|████████████████████████████████████████████████████████████████████████████████████████████████| 197/197 [00:30<00:00,  6.51it/s]\n"
     ]
    },
    {
     "name": "stdout",
     "output_type": "stream",
     "text": [
      "4 0.22631787601858377\n"
     ]
    },
    {
     "name": "stderr",
     "output_type": "stream",
     "text": [
      "Epoch 6/20: 100%|████████████████████████████████████████████████████████████████████████████████████████████████| 197/197 [00:30<00:00,  6.48it/s]\n"
     ]
    },
    {
     "name": "stdout",
     "output_type": "stream",
     "text": [
      "5 0.22075781412422657\n"
     ]
    },
    {
     "name": "stderr",
     "output_type": "stream",
     "text": [
      "Epoch 7/20: 100%|████████████████████████████████████████████████████████████████████████████████████████████████| 197/197 [00:29<00:00,  6.68it/s]\n"
     ]
    },
    {
     "name": "stdout",
     "output_type": "stream",
     "text": [
      "6 0.20008878922089934\n"
     ]
    },
    {
     "name": "stderr",
     "output_type": "stream",
     "text": [
      "Epoch 8/20: 100%|████████████████████████████████████████████████████████████████████████████████████████████████| 197/197 [00:29<00:00,  6.66it/s]\n"
     ]
    },
    {
     "name": "stdout",
     "output_type": "stream",
     "text": [
      "7 0.2037490727379918\n"
     ]
    },
    {
     "name": "stderr",
     "output_type": "stream",
     "text": [
      "Epoch 9/20: 100%|████████████████████████████████████████████████████████████████████████████████████████████████| 197/197 [00:29<00:00,  6.67it/s]\n"
     ]
    },
    {
     "name": "stdout",
     "output_type": "stream",
     "text": [
      "8 0.19908303767442703\n"
     ]
    },
    {
     "name": "stderr",
     "output_type": "stream",
     "text": [
      "Epoch 10/20: 100%|███████████████████████████████████████████████████████████████████████████████████████████████| 197/197 [00:30<00:00,  6.52it/s]\n"
     ]
    },
    {
     "name": "stdout",
     "output_type": "stream",
     "text": [
      "9 0.19875891925767064\n"
     ]
    },
    {
     "name": "stderr",
     "output_type": "stream",
     "text": [
      "Epoch 11/20: 100%|███████████████████████████████████████████████████████████████████████████████████████████████| 197/197 [00:30<00:00,  6.54it/s]\n"
     ]
    },
    {
     "name": "stdout",
     "output_type": "stream",
     "text": [
      "10 0.19882772071287036\n"
     ]
    },
    {
     "name": "stderr",
     "output_type": "stream",
     "text": [
      "Epoch 12/20: 100%|███████████████████████████████████████████████████████████████████████████████████████████████| 197/197 [00:29<00:00,  6.58it/s]\n"
     ]
    },
    {
     "name": "stdout",
     "output_type": "stream",
     "text": [
      "11 0.19144809572026134\n"
     ]
    },
    {
     "name": "stderr",
     "output_type": "stream",
     "text": [
      "Epoch 13/20: 100%|███████████████████████████████████████████████████████████████████████████████████████████████| 197/197 [00:30<00:00,  6.36it/s]\n"
     ]
    },
    {
     "name": "stdout",
     "output_type": "stream",
     "text": [
      "12 0.19788055587559938\n"
     ]
    },
    {
     "name": "stderr",
     "output_type": "stream",
     "text": [
      "Epoch 14/20: 100%|███████████████████████████████████████████████████████████████████████████████████████████████| 197/197 [00:30<00:00,  6.54it/s]\n"
     ]
    },
    {
     "name": "stdout",
     "output_type": "stream",
     "text": [
      "13 0.19085050886496902\n"
     ]
    },
    {
     "name": "stderr",
     "output_type": "stream",
     "text": [
      "Epoch 15/20: 100%|███████████████████████████████████████████████████████████████████████████████████████████████| 197/197 [00:30<00:00,  6.36it/s]\n"
     ]
    },
    {
     "name": "stdout",
     "output_type": "stream",
     "text": [
      "14 0.1905472967773676\n"
     ]
    },
    {
     "name": "stderr",
     "output_type": "stream",
     "text": [
      "Epoch 16/20: 100%|███████████████████████████████████████████████████████████████████████████████████████████████| 197/197 [00:30<00:00,  6.44it/s]\n"
     ]
    },
    {
     "name": "stdout",
     "output_type": "stream",
     "text": [
      "15 0.19279280491173267\n"
     ]
    },
    {
     "name": "stderr",
     "output_type": "stream",
     "text": [
      "Epoch 17/20: 100%|███████████████████████████████████████████████████████████████████████████████████████████████| 197/197 [00:31<00:00,  6.29it/s]\n"
     ]
    },
    {
     "name": "stdout",
     "output_type": "stream",
     "text": [
      "16 0.19742964999750257\n"
     ]
    },
    {
     "name": "stderr",
     "output_type": "stream",
     "text": [
      "Epoch 18/20: 100%|███████████████████████████████████████████████████████████████████████████████████████████████| 197/197 [00:30<00:00,  6.45it/s]\n"
     ]
    },
    {
     "name": "stdout",
     "output_type": "stream",
     "text": [
      "17 0.19171219319105148\n"
     ]
    },
    {
     "name": "stderr",
     "output_type": "stream",
     "text": [
      "Epoch 19/20: 100%|███████████████████████████████████████████████████████████████████████████████████████████████| 197/197 [00:29<00:00,  6.57it/s]\n"
     ]
    },
    {
     "name": "stdout",
     "output_type": "stream",
     "text": [
      "18 0.18717857543379068\n"
     ]
    },
    {
     "name": "stderr",
     "output_type": "stream",
     "text": [
      "Epoch 20/20: 100%|███████████████████████████████████████████████████████████████████████████████████████████████| 197/197 [00:30<00:00,  6.52it/s]\n"
     ]
    },
    {
     "name": "stdout",
     "output_type": "stream",
     "text": [
      "19 0.18372484995052218\n"
     ]
    }
   ],
   "source": [
    "train_model(model_bis, train_loader_bis, valid_loader_bis, 0, 20)"
   ]
  },
  {
   "cell_type": "code",
   "execution_count": 46,
   "id": "0fd53ac1",
   "metadata": {},
   "outputs": [
    {
     "data": {
      "image/png": "[encoded data removed]",
      "text/plain": [
       "<PIL.Image.Image image mode=RGB size=128x128 at 0x7FC5C9536A00>"
      ]
     },
     "metadata": {},
     "output_type": "display_data"
    },
    {
     "data": {
      "image/png": "[encoded data removed]",
      "text/plain": [
       "<PIL.Image.Image image mode=RGB size=128x128 at 0x7FC5C95361C0>"
      ]
     },
     "metadata": {},
     "output_type": "display_data"
    },
    {
     "data": {
      "image/png": "[encoded data removed]",
      "text/plain": [
       "<PIL.Image.Image image mode=RGB size=128x128 at 0x7FC5C95369D0>"
      ]
     },
     "metadata": {},
     "output_type": "display_data"
    }
   ],
   "source": [
    "xb, yb = valid_loader_bis.dataset[9]\n",
    "show_image(xb)\n",
    "show_image(yb)\n",
    "xb = xb.unsqueeze(0)\n",
    "show_image(model_bis(xb.to(device)).squeeze(0))"
   ]
  },
  {
   "cell_type": "code",
   "execution_count": null,
   "id": "36a55eb1",
   "metadata": {},
   "outputs": [],
   "source": []
  }
 ],
 "metadata": {
  "kernelspec": {
   "display_name": "Python 3 (ipykernel)",
   "language": "python",
   "name": "python3"
  },
  "language_info": {
   "codemirror_mode": {
    "name": "ipython",
    "version": 3
   },
   "file_extension": ".py",
   "mimetype": "text/x-python",
   "name": "python",
   "nbconvert_exporter": "python",
   "pygments_lexer": "ipython3",
   "version": "3.8.13"
  }
 },
 "nbformat": 4,
 "nbformat_minor": 5
}
